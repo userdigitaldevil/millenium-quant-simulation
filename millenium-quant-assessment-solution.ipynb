{
 "cells": [
  {
   "cell_type": "markdown",
   "metadata": {
    "deletable": false,
    "editable": false,
    "nbgrader": {
     "cell_type": "markdown",
     "checksum": "556b5a7d69d531596f67b7b563855836",
     "grade": false,
     "grade_id": "cell-14a928e807244ec6",
     "locked": true,
     "schema_version": 3,
     "solution": false,
     "task": false
    }
   },
   "source": [
    "<img src=\"https://algo-assets.amplifyme.com/quant/millenium/Millenium_Quant_C1.png\" width=\"100%\"/>"
   ]
  },
  {
   "cell_type": "markdown",
   "metadata": {
    "deletable": false,
    "editable": false,
    "nbgrader": {
     "cell_type": "markdown",
     "checksum": "f5c4db74e2600d576f856d6226222abb",
     "grade": false,
     "grade_id": "cell-9d02e3a9d3423fef",
     "locked": true,
     "schema_version": 3,
     "solution": false,
     "task": false
    }
   },
   "source": [
    "### **Quant Simulation Challenge 1: Price Making**\n",
    "\n",
    "In this challenge, your task is to build a simple, automated market maker. Using **object-oriented programming**, you will create a class that can provide a two-sided price quote (a bid and an offer) for any given asset.\n",
    "\n",
    "Your model will need to calculate quotes that are **2% away** from the current market price.\n",
    "\n",
    "<div style=\"background-color: #E7F3FE; border-left: 6px solid #2196F3; padding: 15px; margin-bottom: 15px; border-radius: 5px;\">\n",
    "<h4>What is Market Making?</h4>\n",
    "<p>When a large client (like a hedge fund) wants to trade, they ask a Market Maker for a price. </p>\n",
    "<ul>\n",
    "    <li>The client tells you <i>what</i> they want to trade (e.g., Apple shares) and <i>how many</i>.</li>\n",
    "    <li>They don't tell you if they want to <b>buy</b> or <b>sell</b>.</li>\n",
    "    <li>Because of this, you must provide a price for both scenarios:</li>\n",
    "    <ul>\n",
    "        <li><b>Bid Price:</b> The price the client can <b>sell</b> at.</li>\n",
    "        <li><b>Offer Price:</b> The price the client can <b>buy</b> at.</li>\n",
    "    </ul>\n",
    "</ul>\n",
    "</div>\n",
    "\n",
    "#### **Calculation Rules**\n",
    "\n",
    "For this challenge, your bid and offer prices should be calculated using a simple 2% spread around the **reference price** (the current market price).\n",
    "\n",
    "* **Bid Price** = Reference Price $\\times$ (1 - 0.02)\n",
    "* **Offer Price** = Reference Price $\\times$ (1 + 0.02)\n",
    "\n",
    "<div style=\"background-color: #F8F9F9; border: 1px solid #DEE2E6; padding: 15px; margin-bottom: 15px; border-radius: 5px;\">\n",
    "<h4>For Example:</h4>\n",
    "<p>\n",
    "If a client requests a quote for Apple and its current reference price is <b>\\$100</b>, your market maker would provide the following quote:\n",
    "</p>\n",
    "<p style=\"text-align:center; font-size:1.2em; font-family:monospace;\">\n",
    "<b>Bid: \\$98.00 — \\$102.00 :Offer</b>\n",
    "</p>\n",
    "</div>\n",
    "\n",
    "Now, let's import the packages you will need for this notebook."
   ]
  },
  {
   "cell_type": "code",
   "execution_count": 263,
   "metadata": {
    "deletable": false,
    "editable": false,
    "nbgrader": {
     "cell_type": "code",
     "checksum": "9e5fa09d80d416a8f0b3fb67a6ec6dad",
     "grade": false,
     "grade_id": "cell-4a7a0335193cf40f",
     "locked": true,
     "schema_version": 3,
     "solution": false,
     "task": false
    }
   },
   "outputs": [],
   "source": [
    "# The code in this cell is used to import the packages to be used throughout this notebook.\n",
    "# The following are private packages available only during this simulation:\n",
    "from AmplifyQuantTrading import Data\n",
    "from AmplifyQuantTrading import Exchange\n",
    "from AmplifyQuantTrading import MarketMaker\n",
    "from AmplifyQuantTrading import HedgeFund as hf\n",
    "# The following are publicly available packages:\n",
    "from matplotlib import pyplot as plt\n",
    "from pandas import *"
   ]
  },
  {
   "cell_type": "code",
   "execution_count": 264,
   "metadata": {
    "deletable": false,
    "editable": false,
    "nbgrader": {
     "cell_type": "code",
     "checksum": "be71459b59175aea650745949d92f2c5",
     "grade": true,
     "grade_id": "cell-95700bc815297acc",
     "locked": true,
     "points": 0,
     "schema_version": 3,
     "solution": false,
     "task": false
    }
   },
   "outputs": [],
   "source": [
    "# HIDDEN PARAMS BOX"
   ]
  },
  {
   "cell_type": "markdown",
   "metadata": {
    "deletable": false,
    "editable": false,
    "nbgrader": {
     "cell_type": "markdown",
     "checksum": "329fd71f0dcb41d7c8558165b38825de",
     "grade": false,
     "grade_id": "986049254f29a043",
     "locked": true,
     "schema_version": 3,
     "solution": false,
     "task": false
    }
   },
   "source": [
    "<div style=\"background-color: #E7F3FE; border-left: 6px solid #2196F3; padding: 15px; margin-bottom: 15px; border-radius: 5px;\">\n",
    "<h4>Setting Up Our Data</h4>\n",
    "<p>The code below assigns our data to two main variables that we'll use throughout the project:</p>\n",
    "<ul>\n",
    "    <li><code>prices</code>: A series of live market prices for our assets.</li>\n",
    "    <li><code>price_requests</code>: A series of trade requests from our clients.</li>\n",
    "</ul>\n",
    "</div>"
   ]
  },
  {
   "cell_type": "code",
   "execution_count": 265,
   "metadata": {
    "deletable": false,
    "editable": false,
    "nbgrader": {
     "cell_type": "code",
     "checksum": "9a588a16dc20f209963f264d1fca73c4",
     "grade": false,
     "grade_id": "cell-9baf2c67e380131a",
     "locked": true,
     "schema_version": 3,
     "solution": false,
     "task": false
    }
   },
   "outputs": [],
   "source": [
    "prices = Data.get_price_series(\"PricestoFeedserver\")\n",
    "price_requests = Data.get_price_requests(\"PriceRequeststoFeedserver\")"
   ]
  },
  {
   "cell_type": "markdown",
   "metadata": {
    "deletable": false,
    "editable": false,
    "nbgrader": {
     "cell_type": "markdown",
     "checksum": "d6db7e4dc86b18276588d870072e9110",
     "grade": false,
     "grade_id": "cell-6d01bcc8e93638af",
     "locked": true,
     "schema_version": 3,
     "solution": false,
     "task": false
    }
   },
   "source": [
    "### **Task A: Create a Sample Dataset**\n",
    "\n",
    "To make it easier to build and test your code, your first task is to create a smaller sample of data. You'll select the first **ten** trade requests from the main `price_requests` list.\n",
    "\n",
    "<div style=\"background-color: #E7F3FE; border-left: 6px solid #2196F3; padding: 15px; margin-bottom: 15px; border-radius: 5px;\">\n",
    "<h4>Your Task</h4>\n",
    "<p>\n",
    "Iterate through the <code>price_requests</code> data and append the first <b>10 requests</b> to a new list called <code>test_requests</code>.\n",
    "</p>\n",
    "</div>\n",
    "\n",
    "<div style=\"background-color: #F8F9F9; border: 1px solid #DEE2E6; padding: 10px; margin-top: 15px; border-radius: 5px; width:fit-content;\">\n",
    "💡 <b>Check your work:</b> The final <code>test_requests</code> list should contain exactly 10 items.\n",
    "</div>"
   ]
  },
  {
   "cell_type": "code",
   "execution_count": 266,
   "metadata": {
    "deletable": false,
    "editable": false,
    "nbgrader": {
     "cell_type": "code",
     "checksum": "7191977fbabd42392987c14f75919712",
     "grade": false,
     "grade_id": "cell-9bdafaf242375e9d",
     "locked": true,
     "schema_version": 3,
     "solution": false,
     "task": false
    }
   },
   "outputs": [],
   "source": [
    "test_requests = []"
   ]
  },
  {
   "cell_type": "code",
   "execution_count": 267,
   "metadata": {
    "deletable": false,
    "nbgrader": {
     "cell_type": "code",
     "checksum": "2b2920e31730ff07d7fac3cf55a64bcf",
     "grade": false,
     "grade_id": "cell-99b8ed7168ecabab",
     "locked": false,
     "schema_version": 3,
     "solution": true,
     "task": false
    }
   },
   "outputs": [],
   "source": [
    "for index in range(0, 10): # Select the first ten prices in the data.\n",
    "    # Insert your answer code here\n",
    "    test_requests.append(price_requests[index])"
   ]
  },
  {
   "cell_type": "markdown",
   "metadata": {
    "deletable": false,
    "editable": false,
    "nbgrader": {
     "cell_type": "markdown",
     "checksum": "00d5b58840c9084c0171e92cd289119f",
     "grade": false,
     "grade_id": "cell-3dba779b2f899fff",
     "locked": true,
     "schema_version": 3,
     "solution": false,
     "task": false
    }
   },
   "source": [
    "<div style=\"background-color: #D4EDDA; border-left: 6px solid #28A745; padding: 15px; margin-bottom: 15px; border-radius: 5px;\">\n",
    "    <h4>Output Check</h4>\n",
    "    <p>Run the cell below to display your final <code>test_requests</code> list.</p>\n",
    "    <p>You should see a list containing ten requests you selected. Each item in the list follows the format:</p>\n",
    "    <p><code>[ ticker, date, volume ]</code></p>\n",
    "</div>"
   ]
  },
  {
   "cell_type": "code",
   "execution_count": 268,
   "metadata": {
    "deletable": false,
    "editable": false,
    "nbgrader": {
     "cell_type": "code",
     "checksum": "52021f3cd162f3afc0aff8087c73930d",
     "grade": false,
     "grade_id": "cell-adc7f93cc7ea51cb",
     "locked": true,
     "schema_version": 3,
     "solution": false,
     "task": false
    }
   },
   "outputs": [
    {
     "name": "stdout",
     "output_type": "stream",
     "text": [
      "[['FB', 0, 3010], ['AAPL', 10000, 6929], ['FB', 30000, 7015], ['FB', 70000, 4910], ['AAPL', 105000, 5783], ['AAPL', 110000, 3280], ['FB', 115000, 2465], ['AAPL', 120000, 656], ['FB', 130000, 1948], ['FB', 150000, 1386]]\n"
     ]
    }
   ],
   "source": [
    "print(test_requests)"
   ]
  },
  {
   "cell_type": "markdown",
   "metadata": {
    "deletable": false,
    "editable": false,
    "nbgrader": {
     "cell_type": "markdown",
     "checksum": "852f8c9f8ef6e9a1a4cb3365119a228d",
     "grade": false,
     "grade_id": "cell-25a3b2ee03baf3fb",
     "locked": true,
     "schema_version": 3,
     "solution": false,
     "task": false
    }
   },
   "source": [
    "<div style=\"background-color: #f8f9fa; border: 1px solid #dee2e6; padding: 15px; margin-bottom: 15px; border-radius: 5px;\">\n",
    "    <h4>For Grading Purposes Only</h4>\n",
    "    <p>You don't need to change anything in the cell below. It's used to check your work automatically. Please run it without making any changes.</p>\n",
    "</div>"
   ]
  },
  {
   "cell_type": "code",
   "execution_count": 269,
   "metadata": {
    "deletable": false,
    "editable": false,
    "nbgrader": {
     "cell_type": "code",
     "checksum": "6b7a58d060182f70a2280ca49362fe61",
     "grade": true,
     "grade_id": "cell-e9a97c2f5d8e24e9",
     "locked": true,
     "points": 1,
     "schema_version": 3,
     "solution": false,
     "task": false
    }
   },
   "outputs": [],
   "source": [
    "# GRADING CELL"
   ]
  },
  {
   "cell_type": "markdown",
   "metadata": {
    "deletable": false,
    "editable": false,
    "nbgrader": {
     "cell_type": "markdown",
     "checksum": "bd8592c035e43120662b421723f9a638",
     "grade": false,
     "grade_id": "cell-1d4449695087e718",
     "locked": true,
     "schema_version": 3,
     "solution": false,
     "task": false
    }
   },
   "source": [
    "### **Task B: Find the Reference Price for Each Request**\n",
    "\n",
    "Now that you have your `test_requests`, you need to find the correct market price for each one. This is the **reference price** you'll use later to calculate your bid and offer quotes.\n",
    "\n",
    "<div style=\"background-color: #E7F3FE; border-left: 6px solid #2196F3; padding: 15px; margin-bottom: 15px; border-radius: 5px;\">\n",
    "<h4>Your Task</h4>\n",
    "<ol>\n",
    "    <li>Create an empty list called <code>request_with_prices</code>.</li>\n",
    "    <li>Loop through each request in your <code>test_requests</code> list.</li>\n",
    "    <li>For each request, find the matching price from the <code>prices</code> data by matching the <b>ticker</b> and <b>date</b>.</li>\n",
    "    <li>Append the original request and its reference price to your <code>request_with_prices</code> list.</li>\n",
    "</ol>\n",
    "</div>\n",
    "\n",
    "<div style=\"background-color: #F8F9F9; border: 1px solid #DEE2E6; padding: 15px; margin-bottom: 15px; border-radius: 5px;\">\n",
    "    <h4>Required Output Format</h4>\n",
    "    <p>Your final list must be a list of tuples. Each tuple should contain the original request (which is a list) and its corresponding reference price (a number).</p>\n",
    "    <p><b>Structure:</b> <code>[ ( [ticker, date, volume], reference_price ), ... ]</code></p>\n",
    "</div>"
   ]
  },
  {
   "cell_type": "code",
   "execution_count": 270,
   "metadata": {
    "deletable": false,
    "editable": false,
    "nbgrader": {
     "cell_type": "code",
     "checksum": "923cf750c731323ebf74c6dadff34b56",
     "grade": false,
     "grade_id": "cell-b56b7fa1431f6b80",
     "locked": true,
     "schema_version": 3,
     "solution": false,
     "task": false
    }
   },
   "outputs": [],
   "source": [
    "request_with_prices = []"
   ]
  },
  {
   "cell_type": "code",
   "execution_count": 271,
   "metadata": {
    "deletable": false,
    "nbgrader": {
     "cell_type": "code",
     "checksum": "715bd3867218867466e1760ffc6439b8",
     "grade": false,
     "grade_id": "cell-0477647161607c09",
     "locked": false,
     "schema_version": 3,
     "solution": true,
     "task": false
    }
   },
   "outputs": [],
   "source": [
    "for price in prices:  # Iterate through all the prices to match them against the price requests.\n",
    "    for request in test_requests:  # Iterate through the requests from the Hedge Funds.\n",
    "        # Insert your answer code here\n",
    "        ticker_req = request[0]\n",
    "        date_req = request[1]\n",
    "        \n",
    "        # Check if ticker and date match\n",
    "        if price[0] == ticker_req and price[1] == date_req:\n",
    "            reference_price = price[2]\n",
    "            request_with_prices.append((request, reference_price))\n",
    "            break  # Stop looping through prices once a match is found"
   ]
  },
  {
   "cell_type": "markdown",
   "metadata": {
    "deletable": false,
    "editable": false,
    "nbgrader": {
     "cell_type": "markdown",
     "checksum": "2ad925d44c0880f6da9b69172b1de295",
     "grade": false,
     "grade_id": "cell-6a12060e42fe9365",
     "locked": true,
     "schema_version": 3,
     "solution": false,
     "task": false
    }
   },
   "source": [
    "<div style=\"background-color: #D4EDDA; border-left: 6px solid #28A745; padding: 15px; margin-bottom: 15px; border-radius: 5px;\">\n",
    "    <h4>Output Check</h4>\n",
    "    <p>Run the cell below to check your <code>request_with_prices</code> list.</p>\n",
    "    <p>The output confirms each trade request has been paired with its reference price, following the required format:</p>\n",
    "    <p><b>Structure:</b> <code>[ ( [ticker, date, volume], reference_price ), ... ]</code></p>\n",
    "</div>"
   ]
  },
  {
   "cell_type": "code",
   "execution_count": 272,
   "metadata": {
    "deletable": false,
    "editable": false,
    "nbgrader": {
     "cell_type": "code",
     "checksum": "8c17584499a821a613bcd67656ca28ec",
     "grade": false,
     "grade_id": "cell-3f2db2da4086b547",
     "locked": true,
     "schema_version": 3,
     "solution": false,
     "task": false
    }
   },
   "outputs": [
    {
     "name": "stdout",
     "output_type": "stream",
     "text": [
      "[(['FB', 0, 3010], 194.44), (['AAPL', 10000, 6929], 74.63), (['FB', 30000, 7015], 195.75), (['FB', 70000, 4910], 193.3), (['AAPL', 105000, 5783], 73.13), (['AAPL', 110000, 3280], 73.83), (['FB', 115000, 2465], 185.76), (['AAPL', 120000, 656], 76.56), (['FB', 130000, 1948], 191.32), (['FB', 150000, 1386], 195.82)]\n"
     ]
    }
   ],
   "source": [
    "print(request_with_prices)"
   ]
  },
  {
   "cell_type": "markdown",
   "metadata": {
    "deletable": false,
    "editable": false,
    "nbgrader": {
     "cell_type": "markdown",
     "checksum": "9e62147ec092c6c8634aea568c2ff73c",
     "grade": false,
     "grade_id": "cell-2d340453b292d4ab",
     "locked": true,
     "schema_version": 3,
     "solution": false,
     "task": false
    }
   },
   "source": [
    "\n",
    "<div style=\"background-color: #f8f9fa; border: 1px solid #dee2e6; padding: 15px; margin-bottom: 15px; border-radius: 5px;\">\n",
    "    <h4>For Grading Purposes Only</h4>\n",
    "    <p>You don't need to change anything in the cell below. It's used to check your work automatically. Please run it without making any changes.</p>\n",
    "</div>"
   ]
  },
  {
   "cell_type": "code",
   "execution_count": 273,
   "metadata": {
    "deletable": false,
    "editable": false,
    "nbgrader": {
     "cell_type": "code",
     "checksum": "ec78ea6f6773d68628d2f298b5a461fe",
     "grade": true,
     "grade_id": "cell-f12ce7c5321e77ae",
     "locked": true,
     "points": 1,
     "schema_version": 3,
     "solution": false,
     "task": false
    }
   },
   "outputs": [],
   "source": [
    "# GRADING CELL"
   ]
  },
  {
   "cell_type": "markdown",
   "metadata": {
    "deletable": false,
    "editable": false,
    "nbgrader": {
     "cell_type": "markdown",
     "checksum": "3e7bc161eb4337ca05c33c749ed05e4c",
     "grade": false,
     "grade_id": "cell-9d946755bc1a9840",
     "locked": true,
     "schema_version": 3,
     "solution": false,
     "task": false
    }
   },
   "source": [
    "### **Task C: Build a `QuotedTrade` Class**\n",
    "\n",
    "It's time to turn your data into a structured quote. Instead of using lists and tuples, you will now use **Object-Oriented Programming (OOP)** to create a `QuotedTrade` object for each request.\n",
    "\n",
    "Using a class is a clean and professional way to package all the information related to a single trade. This makes your code easier to read, manage, and eventually send to clients.\n",
    "\n",
    "<div style=\"background-color: #F6DDDB; border-left: 6px solid #CE443B; padding: 15px; margin-bottom: 15px; border-radius: 5px;\">\n",
    "<h4>Class Blueprint: `QuotedTrade`</h4>\n",
    "<p>Your class will act as a blueprint for every quote you create. Each object made from this class must contain the following attributes:</p>\n",
    "<ul>\n",
    "    <li><code>ticker</code>: The asset's name (String)</li>\n",
    "    <li><code>trade_volume</code>: The number of shares requested (Integer)</li>\n",
    "    <li><code>ref_price</code>: The market price at the time of the request (Float)</li>\n",
    "    <li><code>bid_price</code>: Your calculated price for the client to sell at (Float)</li>\n",
    "    <li><code>offer_price</code>: Your calculated price for the client to buy at (Float)</li>\n",
    "    <li><code>date</code>: The timestamp of the request (Integer)</li>\n",
    "</ul>\n",
    "</div>\n",
    "\n",
    "<div style=\"background-color: #E7F3FE; border-left: 6px solid #2196F3; padding: 15px; margin-bottom: 15px; border-radius: 5px;\">\n",
    "<h4>Your Task</h4>\n",
    "<ol>\n",
    "    <li><strong>Use the defined <code>QuotedTrade</code> class.</strong></li>\n",
    "    <li>Inside the loop, create <code>QuotedTrade</code> objects with the correct Bid and Offer Price.</li>"
   ]
  },
  {
   "cell_type": "code",
   "execution_count": 274,
   "metadata": {
    "deletable": false,
    "editable": false,
    "nbgrader": {
     "cell_type": "code",
     "checksum": "6920e8e4bc3595ebe343fe659cc9cced",
     "grade": false,
     "grade_id": "cell-72c52dc77d98b645",
     "locked": true,
     "schema_version": 3,
     "solution": false,
     "task": false
    }
   },
   "outputs": [],
   "source": [
    "class QuotedTrade:\n",
    "    def __init__(self, ticker, trade_volume, ref_price, bid_price, offer_price,\n",
    "                 date):\n",
    "        self.ticker = ticker\n",
    "        self.trade_volume = trade_volume\n",
    "        self.ref_price = ref_price\n",
    "        self.bid_price = bid_price\n",
    "        self.offer_price = offer_price\n",
    "        self.date = date\n",
    "\n",
    "    def __str__(self):\n",
    "        return f'Trade Request for {self.ticker}, {self.trade_volume} shares @ {self.ref_price} on {self.date}. Bid Price: {self.bid_price} and Offer Price: {self.offer_price}'\n",
    "\n",
    "    def __repr__(self):\n",
    "        return f'QuotedTrade(ticker={self.ticker}, trade_volume={self.trade_volume}, ref_price={self.ref_price}, bid_price={self.bid_price}, offer_price={self.offer_price}, date={self.date})'"
   ]
  },
  {
   "cell_type": "markdown",
   "metadata": {
    "deletable": false,
    "editable": false,
    "nbgrader": {
     "cell_type": "markdown",
     "checksum": "ca9d3c83a5dc20884bcf1410ba44aea7",
     "grade": false,
     "grade_id": "cell-b8279455f9c02fa9",
     "locked": true,
     "schema_version": 3,
     "solution": false,
     "task": false
    }
   },
   "source": [
    "<div style=\"background-color: #FFF3CD; border-left: 6px solid #FFC107; padding: 15px; margin-bottom: 15px; border-radius: 5px;\">\n",
    "    <h4>Key Calculation: Bid & Offer Prices</h4>\n",
    "    <p>You must calculate the <code>bid_price</code> and <code>offer_price</code>. These should be set based on a 2% spread around the <code>ref_price</code>.</p>\n",
    "</div>"
   ]
  },
  {
   "cell_type": "code",
   "execution_count": 275,
   "metadata": {
    "deletable": false,
    "editable": false,
    "nbgrader": {
     "cell_type": "code",
     "checksum": "890fd3af76a0967109edaeffe147344f",
     "grade": false,
     "grade_id": "cell-e65e21327f1e8616",
     "locked": true,
     "schema_version": 3,
     "solution": false,
     "task": false
    }
   },
   "outputs": [],
   "source": [
    "quoted_trades = []"
   ]
  },
  {
   "cell_type": "code",
   "execution_count": 276,
   "metadata": {
    "deletable": false,
    "nbgrader": {
     "cell_type": "code",
     "checksum": "5b6d8404478d6c51b006585a39f88442",
     "grade": false,
     "grade_id": "cell-d5d31114b6fa1780",
     "locked": false,
     "schema_version": 3,
     "solution": true,
     "task": false
    }
   },
   "outputs": [],
   "source": [
    "# Replace the ? in this task with your answer.\n",
    "\n",
    "for matched in request_with_prices:\n",
    "    #\n",
    "    request, ref_price = matched\n",
    "    ticker = request[0]\n",
    "    date = request[1]\n",
    "    trade_volume = request[2]\n",
    "    #\n",
    "    \n",
    "    bid_price =  ref_price * (1 - 0.02) #? Create the bid spread\n",
    "    \n",
    "    offer_price =  ref_price * (1 + 0.02) #? Create the offer spread\n",
    "    \n",
    "    # Now create the QuotedTrade object and append it to the quoted_trades list.\n",
    "    # Insert your answer code here\n",
    "    trade = QuotedTrade(ticker, trade_volume, ref_price, bid_price, offer_price, date)\n",
    "    quoted_trades.append(trade)"
   ]
  },
  {
   "cell_type": "markdown",
   "metadata": {
    "deletable": false,
    "editable": false,
    "nbgrader": {
     "cell_type": "markdown",
     "checksum": "eaaec149dccc1c194ee38abaab5de35e",
     "grade": false,
     "grade_id": "cell-a349fae73dcb9fbd",
     "locked": true,
     "schema_version": 3,
     "solution": false,
     "task": false
    }
   },
   "source": [
    "<div style=\"background-color: #D4EDDA; border-left: 6px solid #28A745; padding: 15px; margin-bottom: 15px; border-radius: 5px;\">\n",
    "    <h4>Output Check</h4>\n",
    "    <p>Run the cell below to display your final <code>quoted_trades</code> list.</p>\n",
    "    <p>You should see a list containing ten <code>QuotedTrade</code> objects, confirming that your class and loop worked correctly.</p>\n",
    "</div>"
   ]
  },
  {
   "cell_type": "code",
   "execution_count": 277,
   "metadata": {
    "deletable": false,
    "editable": false,
    "nbgrader": {
     "cell_type": "code",
     "checksum": "45766d50c275e787993258e3070e6ebe",
     "grade": false,
     "grade_id": "cell-baa66e2e7ded583d",
     "locked": true,
     "schema_version": 3,
     "solution": false,
     "task": false
    }
   },
   "outputs": [
    {
     "name": "stdout",
     "output_type": "stream",
     "text": [
      "[QuotedTrade(ticker=FB, trade_volume=3010, ref_price=194.44, bid_price=190.5512, offer_price=198.3288, date=0), QuotedTrade(ticker=AAPL, trade_volume=6929, ref_price=74.63, bid_price=73.1374, offer_price=76.12259999999999, date=10000), QuotedTrade(ticker=FB, trade_volume=7015, ref_price=195.75, bid_price=191.835, offer_price=199.665, date=30000), QuotedTrade(ticker=FB, trade_volume=4910, ref_price=193.3, bid_price=189.434, offer_price=197.16600000000003, date=70000), QuotedTrade(ticker=AAPL, trade_volume=5783, ref_price=73.13, bid_price=71.6674, offer_price=74.59259999999999, date=105000), QuotedTrade(ticker=AAPL, trade_volume=3280, ref_price=73.83, bid_price=72.3534, offer_price=75.3066, date=110000), QuotedTrade(ticker=FB, trade_volume=2465, ref_price=185.76, bid_price=182.04479999999998, offer_price=189.4752, date=115000), QuotedTrade(ticker=AAPL, trade_volume=656, ref_price=76.56, bid_price=75.0288, offer_price=78.0912, date=120000), QuotedTrade(ticker=FB, trade_volume=1948, ref_price=191.32, bid_price=187.4936, offer_price=195.1464, date=130000), QuotedTrade(ticker=FB, trade_volume=1386, ref_price=195.82, bid_price=191.90359999999998, offer_price=199.7364, date=150000)]\n"
     ]
    }
   ],
   "source": [
    "print(quoted_trades)"
   ]
  },
  {
   "cell_type": "markdown",
   "metadata": {
    "deletable": false,
    "editable": false,
    "nbgrader": {
     "cell_type": "markdown",
     "checksum": "aa31927a2574d4103f726aadbff69ebd",
     "grade": false,
     "grade_id": "cell-2ae071e75bb25318",
     "locked": true,
     "schema_version": 3,
     "solution": false,
     "task": false
    }
   },
   "source": [
    "<div style=\"background-color: #f8f9fa; border: 1px solid #dee2e6; padding: 15px; margin-bottom: 15px; border-radius: 5px;\">\n",
    "    <h4>For Grading Purposes Only</h4>\n",
    "    <p>You don't need to change anything in the cell below. It's used to check your work automatically. Please run it without making any changes.</p>\n",
    "</div>"
   ]
  },
  {
   "cell_type": "code",
   "execution_count": 278,
   "metadata": {
    "deletable": false,
    "editable": false,
    "nbgrader": {
     "cell_type": "code",
     "checksum": "9324dc9f85637d34d0866ec347b55de0",
     "grade": true,
     "grade_id": "cell-106ce2201a6a2fbc",
     "locked": true,
     "points": 1,
     "schema_version": 3,
     "solution": false,
     "task": false
    }
   },
   "outputs": [],
   "source": [
    "# GRADING CELL"
   ]
  },
  {
   "cell_type": "markdown",
   "metadata": {
    "deletable": false,
    "editable": false,
    "nbgrader": {
     "cell_type": "markdown",
     "checksum": "282c01edb76446a88e5a227a1976f60c",
     "grade": false,
     "grade_id": "cell-3ec62f4d803fadfe",
     "locked": true,
     "schema_version": 3,
     "solution": false,
     "task": false
    }
   },
   "source": [
    "### **Task D: Get the Hedge Fund's Decision**\n",
    "\n",
    "This is the final step of the process. You will now send each of your `QuotedTrade` objects to the hedge fund client (represented by the `hf` object) to get their decision. The client will respond by telling you if they want to **Buy** from you, **Sell** to you, or **Refuse** the trade entirely.\n",
    "\n",
    "<div style=\"background-color: #F8F9F9; border: 1px solid #DEE2E6; padding: 15px; margin-bottom: 15px; border-radius: 5px;\">\n",
    "    <h4>Method Documentation: <code>hf.show()</code></h4>\n",
    "    <p>This function simulates sending your quote to the hedge fund for a decision.</p>\n",
    "    <hr style=\"border-top: 1px solid #E9ECEF; margin: 10px 0;\">\n",
    "    <p><b>Method:</b> <code>hf.show(trade)</code></p>\n",
    "    <p><b>Parameters:</b></p>\n",
    "    <ul><li><code>trade</code>: A single <code>QuotedTrade</code> object you created in the previous step.</li></ul>\n",
    "    <p><b>Returns:</b></p>\n",
    "    <ul><li>An <code>HfResponse</code> object. This object contains the fund's action ('Buy', 'Sell', or 'Refuse') and the final details of the trade.</li></ul>\n",
    "</div>\n",
    "\n",
    "<div style=\"background-color: #E7F3FE; border-left: 6px solid #2196F3; padding: 15px; margin-bottom: 15px; border-radius: 5px;\">\n",
    "<h4>Your Task</h4>\n",
    "<ol>\n",
    "    <li>Create an empty list called <code>hf_responses</code>.</li>\n",
    "    <li>Loop through your list of <code>quoted_trades</code> objects.</li>\n",
    "    <li>For each <code>QuotedTrade</code> object, pass it to the <code>hf.show()</code> method.</li>\n",
    "    <li>Append the resulting <code>HfResponse</code> object to your <code>hf_responses</code> list.</li>\n",
    "</ol>\n",
    "</div>"
   ]
  },
  {
   "cell_type": "code",
   "execution_count": 279,
   "metadata": {
    "deletable": false,
    "editable": false,
    "nbgrader": {
     "cell_type": "code",
     "checksum": "e7b35539d334a925ba6fbf6e70831d0c",
     "grade": false,
     "grade_id": "cell-016d41309d106a52",
     "locked": true,
     "schema_version": 3,
     "solution": false,
     "task": false
    }
   },
   "outputs": [],
   "source": [
    "hf_responses = []"
   ]
  },
  {
   "cell_type": "code",
   "execution_count": 280,
   "metadata": {
    "deletable": false,
    "nbgrader": {
     "cell_type": "code",
     "checksum": "3507d4d393e9810cb137a084b9596151",
     "grade": false,
     "grade_id": "cell-f6106fcbf78adf23",
     "locked": false,
     "schema_version": 3,
     "solution": true,
     "task": false
    }
   },
   "outputs": [],
   "source": [
    "# Replace the ? in this task with your answer.\n",
    "\n",
    "for trade in quoted_trades:\n",
    "    response = hf.show(trade) #? Assign the response to the return from the hf.show()\n",
    "    hf_responses.append(response)"
   ]
  },
  {
   "cell_type": "markdown",
   "metadata": {
    "deletable": false,
    "editable": false,
    "nbgrader": {
     "cell_type": "markdown",
     "checksum": "edaa83babde50728970a379b30522322",
     "grade": false,
     "grade_id": "cell-418c8973f359240a",
     "locked": true,
     "schema_version": 3,
     "solution": false,
     "task": false
    }
   },
   "source": [
    "<div style=\"background-color: #D4EDDA; border-left: 6px solid #28A745; padding: 15px; margin-bottom: 15px; border-radius: 5px;\">\n",
    "    <h4>Output Check</h4>\n",
    "    <p>Run the cell below to see the final <code>hf_responses</code> list.</p>\n",
    "    <p>This output shows the decision for each of your quotes, completing the market-making cycle.</p>\n",
    "</div>"
   ]
  },
  {
   "cell_type": "code",
   "execution_count": 281,
   "metadata": {
    "deletable": false,
    "editable": false,
    "nbgrader": {
     "cell_type": "code",
     "checksum": "39e6419fbd1e20d3618ab289dc800160",
     "grade": false,
     "grade_id": "cell-445888e408bf1715",
     "locked": true,
     "schema_version": 3,
     "solution": false,
     "task": false
    }
   },
   "outputs": [
    {
     "name": "stdout",
     "output_type": "stream",
     "text": [
      "[HfResponse(ticker=FB, trade_volume=3010, trade_price=190.5512, hf_action=sell, ref_price=194.44, bid_price=190.5512, offer_price=198.3288, date=0), HfResponse(ticker=AAPL, trade_volume=6929, trade_price=73.1374, hf_action=sell, ref_price=74.63, bid_price=73.1374, offer_price=76.12259999999999, date=10000), HfResponse(ticker=FB, trade_volume=7015, trade_price=199.665, hf_action=buy, ref_price=195.75, bid_price=191.835, offer_price=199.665, date=30000), HfResponse(ticker=FB, trade_volume=4910, trade_price=197.16600000000003, hf_action=buy, ref_price=193.3, bid_price=189.434, offer_price=197.16600000000003, date=70000), HfResponse(ticker=AAPL, trade_volume=5783, trade_price=74.59259999999999, hf_action=buy, ref_price=73.13, bid_price=71.6674, offer_price=74.59259999999999, date=105000), HfResponse(ticker=AAPL, trade_volume=3280, trade_price=75.3066, hf_action=buy, ref_price=73.83, bid_price=72.3534, offer_price=75.3066, date=110000), HfResponse(ticker=FB, trade_volume=2465, trade_price=182.04479999999998, hf_action=sell, ref_price=185.76, bid_price=182.04479999999998, offer_price=189.4752, date=115000), HfResponse(ticker=AAPL, trade_volume=656, trade_price=75.0288, hf_action=sell, ref_price=76.56, bid_price=75.0288, offer_price=78.0912, date=120000), HfResponse(ticker=FB, trade_volume=1948, trade_price=195.1464, hf_action=buy, ref_price=191.32, bid_price=187.4936, offer_price=195.1464, date=130000), HfResponse(ticker=FB, trade_volume=1386, trade_price=191.90359999999998, hf_action=sell, ref_price=195.82, bid_price=191.90359999999998, offer_price=199.7364, date=150000)]\n"
     ]
    }
   ],
   "source": [
    "print(hf_responses)"
   ]
  },
  {
   "cell_type": "markdown",
   "metadata": {
    "deletable": false,
    "editable": false,
    "nbgrader": {
     "cell_type": "markdown",
     "checksum": "c3cc1a12e0588f7bd7b2cf091770f5d1",
     "grade": false,
     "grade_id": "cell-8b97d29e3d7a569d",
     "locked": true,
     "schema_version": 3,
     "solution": false,
     "task": false
    }
   },
   "source": [
    "<div style=\"background-color: #f8f9fa; border: 1px solid #dee2e6; padding: 15px; margin-bottom: 15px; border-radius: 5px;\">\n",
    "    <h4>For Grading Purposes Only</h4>\n",
    "    <p>You don't need to change anything in the cell below. It's used to check your work automatically. Please run it without making any changes.</p>\n",
    "</div>"
   ]
  },
  {
   "cell_type": "code",
   "execution_count": 282,
   "metadata": {
    "deletable": false,
    "editable": false,
    "nbgrader": {
     "cell_type": "code",
     "checksum": "54370f4d2b4070b6f7c25052967676f2",
     "grade": true,
     "grade_id": "cell-e0e2f0e2c0c47ed2",
     "locked": true,
     "points": 1,
     "schema_version": 3,
     "solution": false,
     "task": false
    }
   },
   "outputs": [],
   "source": [
    "# GRADING CELL"
   ]
  },
  {
   "cell_type": "markdown",
   "metadata": {
    "deletable": false,
    "editable": false,
    "nbgrader": {
     "cell_type": "markdown",
     "checksum": "babada890da59efdcdbd23a4c03ca15f",
     "grade": false,
     "grade_id": "cell-0e50484308b8ffb1",
     "locked": true,
     "schema_version": 3,
     "solution": false,
     "task": false
    }
   },
   "source": [
    "### **Task E: Initialize the Market Maker**\n",
    "\n",
    "Now it's time to bring everything together. You will initialize the main `MarketMaker` class, which will act as the central controller for tracking your positions, quotes, and completed trades throughout the simulation.\n",
    "\n",
    "<div style=\"background-color: #F8F9F9; border: 1px solid #DEE2E6; padding: 15px; margin-bottom: 15px; border-radius: 5px;\">\n",
    "    <h4>The `MarketMaker` Object</h4>\n",
    "    <p>The `MarketMaker` object is the central controller for our simulation and is initialized with the following attributes to track all activity:</p>\n",
    "    <ul>\n",
    "        <li><code>current_positions</code>: A dictionary tracking the volume of each asset you currently hold.\n",
    "            <ul><li><em>Structure: <code>{ 'TICKER': position_object, ... }</code></em></li></ul>\n",
    "        </li>\n",
    "        <li><code>quoted_trades</code>: A list to store all the <code>QuotedTrade</code> objects you create.</li>\n",
    "        <li><code>completed_trades</code>: A list to store all trades that clients have accepted (both buys and sells).</li>\n",
    "        <li><code>ETF_positions</code>: A list used specifically to track your ETF trades.</li>\n",
    "    </ul>\n",
    "</div>\n",
    "\n",
    "<div style=\"background-color: #E7F3FE; border-left: 6px solid #2196F3; padding: 15px; margin-bottom: 15px; border-radius: 5px;\">\n",
    "    <h4>Your Task: Initialize the Object</h4>\n",
    "    <p>Run the code cell below to create your instance of the <code>MarketMaker</code> class. This will make the <code>market_maker</code> object available for the next steps.</p>\n",
    "</div>"
   ]
  },
  {
   "cell_type": "code",
   "execution_count": 283,
   "metadata": {
    "deletable": false,
    "editable": false,
    "nbgrader": {
     "cell_type": "code",
     "checksum": "a44920a859432a682aa46e52a28ac36e",
     "grade": false,
     "grade_id": "cell-e594040914e04f9c",
     "locked": true,
     "schema_version": 3,
     "solution": false,
     "task": false
    }
   },
   "outputs": [],
   "source": [
    "mm = MarketMaker.mm()"
   ]
  },
  {
   "cell_type": "markdown",
   "metadata": {
    "deletable": false,
    "editable": false,
    "nbgrader": {
     "cell_type": "markdown",
     "checksum": "93d71d48d6ac53f0ceda6adb6c5ffff3",
     "grade": false,
     "grade_id": "cell-2eb48c71b1867f57",
     "locked": true,
     "schema_version": 3,
     "solution": false,
     "task": false
    }
   },
   "source": [
    "### **Task F: Log Your Quoted Trades**\n",
    "\n",
    "A crucial part of market making is keeping a detailed log of all activity. Your next task is to log every quote you've prepared by adding each one to your `market_maker` object.\n",
    "\n",
    "<div style=\"background-color: #F8F9F9; border: 1px solid #DEE2E6; padding: 15px; margin-bottom: 15px; border-radius: 5px;\">\n",
    "    <h4>Method: <code>market_maker.add_quoted_trade()</code></h4>\n",
    "    <p>This method adds a single <code>QuotedTrade</code> object to the market maker's internal log of quoted trades.</p>\n",
    "    <hr style=\"border-top: 1px solid #E9ECEF; margin: 10px 0;\">\n",
    "    <p><b>Parameters:</b></p>\n",
    "    <ul><li><code>trade</code>: A single <code>QuotedTrade</code> object.</li></ul>\n",
    "    <p><b>Returns:</b></p>\n",
    "    <ul><li>A confirmation message (String) indicating if the trade was added successfully.</li></ul>\n",
    "</div>\n",
    "\n",
    "<div style=\"background-color: #E7F3FE; border-left: 6px solid #2196F3; padding: 15px; margin-bottom: 15px; border-radius: 5px;\">\n",
    "<h4>Your Task</h4>\n",
    "<ol>\n",
    "    <li>Loop through the <code>quoted_trades</code> list you created earlier.</li>\n",
    "    <li>Inside the loop, call the <code>market_maker.add_quoted_trade()</code> method for each trade object to log it.</li>\n",
    "</ol>\n",
    "</div>"
   ]
  },
  {
   "cell_type": "code",
   "execution_count": 284,
   "metadata": {
    "deletable": false,
    "nbgrader": {
     "cell_type": "code",
     "checksum": "1d2aa9fa4a50272d1c1d7c6867899098",
     "grade": false,
     "grade_id": "cell-cb05edf6a52feea0",
     "locked": false,
     "schema_version": 3,
     "solution": true,
     "task": false
    }
   },
   "outputs": [],
   "source": [
    "for quote in quoted_trades:\n",
    "    # Use the function to add each quote to the Market Maker\n",
    "    # Insert your answer code here\n",
    "    confirmation = mm.add_quoted_trade(quote)"
   ]
  },
  {
   "cell_type": "markdown",
   "metadata": {
    "deletable": false,
    "editable": false,
    "nbgrader": {
     "cell_type": "markdown",
     "checksum": "96ca2850deb8498617f5363530d9b0cc",
     "grade": false,
     "grade_id": "cell-eeb102c5e3ffdac1",
     "locked": true,
     "schema_version": 3,
     "solution": false,
     "task": false
    }
   },
   "source": [
    "<div style=\"background-color: #D4EDDA; border-left: 6px solid #28A745; padding: 15px; margin-bottom: 15px; border-radius: 5px;\">\n",
    "    <h4>Output Check</h4>\n",
    "    <p>Run the cell below to check the contents of the <code>market_maker.quoted_trades</code> list.</p>\n",
    "    <p>This confirms that all ten of your quoted trades have been successfully logged inside the market maker object.</p>\n",
    "</div>"
   ]
  },
  {
   "cell_type": "code",
   "execution_count": 285,
   "metadata": {
    "deletable": false,
    "editable": false,
    "nbgrader": {
     "cell_type": "code",
     "checksum": "a271d2500aa5a1d41fca48b20a57ab0b",
     "grade": false,
     "grade_id": "cell-3f5209199c32b9fa",
     "locked": true,
     "schema_version": 3,
     "solution": false,
     "task": false
    }
   },
   "outputs": [
    {
     "name": "stdout",
     "output_type": "stream",
     "text": [
      "[QuotedTrade(ticker=FB, trade_volume=3010, ref_price=194.44, bid_price=190.5512, offer_price=198.3288, date=0), QuotedTrade(ticker=AAPL, trade_volume=6929, ref_price=74.63, bid_price=73.1374, offer_price=76.12259999999999, date=10000), QuotedTrade(ticker=FB, trade_volume=7015, ref_price=195.75, bid_price=191.835, offer_price=199.665, date=30000), QuotedTrade(ticker=FB, trade_volume=4910, ref_price=193.3, bid_price=189.434, offer_price=197.16600000000003, date=70000), QuotedTrade(ticker=AAPL, trade_volume=5783, ref_price=73.13, bid_price=71.6674, offer_price=74.59259999999999, date=105000), QuotedTrade(ticker=AAPL, trade_volume=3280, ref_price=73.83, bid_price=72.3534, offer_price=75.3066, date=110000), QuotedTrade(ticker=FB, trade_volume=2465, ref_price=185.76, bid_price=182.04479999999998, offer_price=189.4752, date=115000), QuotedTrade(ticker=AAPL, trade_volume=656, ref_price=76.56, bid_price=75.0288, offer_price=78.0912, date=120000), QuotedTrade(ticker=FB, trade_volume=1948, ref_price=191.32, bid_price=187.4936, offer_price=195.1464, date=130000), QuotedTrade(ticker=FB, trade_volume=1386, ref_price=195.82, bid_price=191.90359999999998, offer_price=199.7364, date=150000)]\n"
     ]
    }
   ],
   "source": [
    "print(mm.quoted_trades)"
   ]
  },
  {
   "cell_type": "markdown",
   "metadata": {
    "deletable": false,
    "editable": false,
    "nbgrader": {
     "cell_type": "markdown",
     "checksum": "222a2cd599f20fb17e72908a52b9aa31",
     "grade": false,
     "grade_id": "cell-ead8b967d22ecc43",
     "locked": true,
     "schema_version": 3,
     "solution": false,
     "task": false
    }
   },
   "source": [
    "### **Task G: Create a `CompletedTrade` Class**\n",
    "\n",
    "When a hedge fund accepts one of your quotes, the trade is considered \"completed.\" To keep a clean record of your successful transactions, you will create a new `CompletedTrade` class.\n",
    "\n",
    "This class will act as a blueprint for logging every trade that actually gets executed.\n",
    "\n",
    "<div style=\"background-color: #F6DDDB; border-left: 6px solid #CE443B; padding: 15px; margin-bottom: 15px; border-radius: 5px;\">\n",
    "    <h4>Class Blueprint: `CompletedTrade`</h4>\n",
    "    <p>Each object made from this class will represent a single successful trade and must contain the following attributes:</p>\n",
    "    <ul>\n",
    "        <li><code>ticker</code>: The asset's name (String)</li>\n",
    "        <li><code>trade_volume</code>: The number of shares traded (Integer)</li>\n",
    "        <li><code>trade_price</code>: The final price the trade was executed at (Float)</li>\n",
    "        <li><code>mm_action</code>: The market maker's side of the trade ('Buy' or 'Sell') (String)</li>\n",
    "        <li><code>ref_price</code>: The original reference price (Float)</li>\n",
    "        <li><code>bid_price</code>: The original bid price you quoted (Float)</li>\n",
    "        <li><code>offer_price</code>: The original offer price you quoted (Float)</li>\n",
    "        <li><code>date</code>: The timestamp of the request (Integer)</li>\n",
    "    </ul>\n",
    "</div>\n",
    "\n",
    "<div style=\"background-color: #E7F3FE; border-left: 6px solid #2196F3; padding: 15px; margin-bottom: 15px; border-radius: 5px;\">\n",
    "<h4>Your Task</h4>\n",
    "<ol>\n",
    "    <li><strong>Define the <code>CompletedTrade</code> class.</strong></li>\n",
    "    <li>Inside the class, create an <code>__init__</code> method.</li>\n",
    "    <li>The <code>__init__</code> method should accept all the necessary information from a hedge fund's response and set the attributes listed above.</li>\n",
    "</ol>\n",
    "</div>"
   ]
  },
  {
   "cell_type": "code",
   "execution_count": 286,
   "metadata": {
    "deletable": false,
    "nbgrader": {
     "cell_type": "code",
     "checksum": "2f8f9c0af111f791b96b8dd726ff488c",
     "grade": false,
     "grade_id": "cell-fb5a051969912f63",
     "locked": false,
     "schema_version": 3,
     "solution": true,
     "task": false
    }
   },
   "outputs": [],
   "source": [
    "class CompletedTrade:\n",
    "    # Insert your answer code here\n",
    "        def __init__(self, ticker, trade_volume, trade_price, mm_action, ref_price, bid_price, offer_price, date):\n",
    "            self.ticker = ticker\n",
    "            self.trade_volume = trade_volume\n",
    "            self.trade_price = trade_price\n",
    "            self.mm_action = mm_action\n",
    "            self.ref_price = ref_price\n",
    "            self.bid_price = bid_price\n",
    "            self.offer_price = offer_price\n",
    "            self.date = date\n",
    "\n",
    "        def __str__(self):\n",
    "            return (f'Completed Trade: {self.mm_action} {self.trade_volume} shares of {self.ticker} '\n",
    "                    f'@ {self.trade_price} (Ref: {self.ref_price}, Bid: {self.bid_price}, Offer: {self.offer_price}) '\n",
    "                    f'on {self.date}')\n",
    "    \n",
    "        def __repr__(self):\n",
    "            return (f'CompletedTrade(ticker={self.ticker}, trade_volume={self.trade_volume}, '\n",
    "                    f'trade_price={self.trade_price}, mm_action={self.mm_action}, ref_price={self.ref_price}, '\n",
    "                    f'bid_price={self.bid_price}, offer_price={self.offer_price}, date={self.date})')"
   ]
  },
  {
   "cell_type": "markdown",
   "metadata": {
    "deletable": false,
    "editable": false,
    "nbgrader": {
     "cell_type": "markdown",
     "checksum": "076d9939e2607653ce15c0539153fb9e",
     "grade": false,
     "grade_id": "cell-aec07b65343676b6",
     "locked": true,
     "schema_version": 3,
     "solution": false,
     "task": false
    }
   },
   "source": [
    "### **Log Completed Trades & Update Positions**\n",
    "\n",
    "Now that you have the hedge fund's decisions, it's time to update your records. You'll process the `hf_responses` list, ignoring any refused trades and logging the successful ones. This final step will also update your inventory to reflect your new positions.\n",
    "\n",
    "<div style=\"background-color: #F8F9F9; border: 1px solid #DEE2E6; padding: 15px; margin-bottom: 15px; border-radius: 5px;\">\n",
    "    <h4>⚙️ Method: <code>market_maker.add_trade()</code></h4>\n",
    "    <p>This crucial method logs a completed trade to your history and automatically updates your current position in that asset.</p>\n",
    "    <hr style=\"border-top: 1px solid #E9ECEF; margin: 10px 0;\">\n",
    "    <p><b>Parameters:</b></p>\n",
    "    <ul><li><code>trade</code>: A single <code>CompletedTrade</code> object.</li></ul>\n",
    "    <p><b>Returns:</b></p>\n",
    "    <ul><li>A confirmation message (String) indicating if the trade was added successfully.</li></ul>\n",
    "</div>\n",
    "\n",
    "<div style=\"background-color: #FFF3CD; border-left: 6px solid #FFC107; padding: 15px; margin-bottom: 15px; border-radius: 5px;\">\n",
    "    <h4>⚠️ Important Logic</h4>\n",
    "    <p>You must only process responses where the trade was accepted. Check the <code>hf_action</code> attribute in each response:</p>\n",
    "    <ul>\n",
    "        <li>If the action is 'Buy' or 'Sell', you should log it.</li>\n",
    "        <li>If the action is 'Refuse', you should ignore it and move to the next response.</li>\n",
    "    </ul>\n",
    "</div>\n",
    "\n",
    "<div style=\"background-color: #E7F3FE; border-left: 6px solid #2196F3; padding: 15px; margin-bottom: 15px; border-radius: 5px;\">\n",
    "<h4>Your Task</h4>\n",
    "<ol>\n",
    "    <li>Loop through the <code>hf_responses</code> list.</li>\n",
    "    <li>For each response, check if the <code>hf_action</code> is <b>not</b> 'Refuse'.</li>\n",
    "    <li>If the trade was accepted, create an instance of your <code>CompletedTrade</code> class using the data from the response object.</li>\n",
    "    <li>Pass this new <code>CompletedTrade</code> object to the <code>market_maker.add_trade()</code> method to log it.</li>\n",
    "</ol>\n",
    "</div>"
   ]
  },
  {
   "cell_type": "code",
   "execution_count": 287,
   "metadata": {
    "deletable": false,
    "nbgrader": {
     "cell_type": "code",
     "checksum": "71ded18b268ef6584b4ca2105174042a",
     "grade": false,
     "grade_id": "cell-c8f52b102a9edb6a",
     "locked": false,
     "schema_version": 3,
     "solution": true,
     "task": false
    }
   },
   "outputs": [],
   "source": [
    "for response in hf_responses: # Loops through the hf_responses for each response\n",
    "        \n",
    "    # Collection of conditionals for \"buy\", \"sell\" and \"refuse\"\n",
    "    if response.hf_action == \"buy\": # Identifies the HF action to be converted into the MM action\n",
    "        # Insert your answer code here\n",
    "        # Create CompletedTrade object for buy action\n",
    "        completed_trade = CompletedTrade(\n",
    "            ticker=response.ticker,\n",
    "            trade_volume=response.trade_volume,\n",
    "            trade_price=response.trade_price,\n",
    "            mm_action=\"Sell\",  # Market maker sells when HF buys\n",
    "            ref_price=response.ref_price,\n",
    "            bid_price=response.bid_price,\n",
    "            offer_price=response.offer_price,\n",
    "            date=response.date\n",
    "        )\n",
    "        mm.add_trade(completed_trade)\n",
    "        \n",
    "    elif response.hf_action == \"sell\": # Identifies the HF action to be converted into the MM action\n",
    "        # Create CompletedTrade object for sell action\n",
    "        completed_trade = CompletedTrade(\n",
    "            ticker=response.ticker,\n",
    "            trade_volume=response.trade_volume,\n",
    "            trade_price=response.trade_price,\n",
    "            mm_action=\"Buy\",   # Market maker buys when HF sells\n",
    "            ref_price=response.ref_price,\n",
    "            bid_price=response.bid_price,\n",
    "            offer_price=response.offer_price,\n",
    "            date=response.date\n",
    "        )\n",
    "        mm.add_trade(completed_trade)\n",
    "        "
   ]
  },
  {
   "cell_type": "markdown",
   "metadata": {
    "deletable": false,
    "editable": false,
    "nbgrader": {
     "cell_type": "markdown",
     "checksum": "b631de449698a5a4fcd066ae79a57b17",
     "grade": false,
     "grade_id": "cell-4793642ce2718d65",
     "locked": true,
     "schema_version": 3,
     "solution": false,
     "task": false
    }
   },
   "source": [
    "<div style=\"background-color: #D4EDDA; border-left: 6px solid #28A745; padding: 15px; margin-bottom: 15px; border-radius: 5px;\">\n",
    "    <h4>Output Check</h4>\n",
    "    <p>Run the cell below to view the contents of your <code>market_maker.completed_trades</code> list.</p>\n",
    "    <p>This output confirms your final log, which should only contain the trades that were successfully executed ('Buy' or 'Sell').</p>\n",
    "</div>"
   ]
  },
  {
   "cell_type": "code",
   "execution_count": 288,
   "metadata": {
    "deletable": false,
    "editable": false,
    "nbgrader": {
     "cell_type": "code",
     "checksum": "25f47ad3a3c2f662f0889e5ee635bcd2",
     "grade": false,
     "grade_id": "cell-ee1493e2a72fd768",
     "locked": true,
     "schema_version": 3,
     "solution": false,
     "task": false
    }
   },
   "outputs": [
    {
     "name": "stdout",
     "output_type": "stream",
     "text": [
      "[CompletedTrade(ticker=FB, trade_volume=3010, trade_price=190.5512, mm_action=Buy, ref_price=194.44, bid_price=190.5512, offer_price=198.3288, date=0), CompletedTrade(ticker=AAPL, trade_volume=6929, trade_price=73.1374, mm_action=Buy, ref_price=74.63, bid_price=73.1374, offer_price=76.12259999999999, date=10000), CompletedTrade(ticker=FB, trade_volume=7015, trade_price=199.665, mm_action=Sell, ref_price=195.75, bid_price=191.835, offer_price=199.665, date=30000), CompletedTrade(ticker=FB, trade_volume=4910, trade_price=197.16600000000003, mm_action=Sell, ref_price=193.3, bid_price=189.434, offer_price=197.16600000000003, date=70000), CompletedTrade(ticker=AAPL, trade_volume=5783, trade_price=74.59259999999999, mm_action=Sell, ref_price=73.13, bid_price=71.6674, offer_price=74.59259999999999, date=105000), CompletedTrade(ticker=AAPL, trade_volume=3280, trade_price=75.3066, mm_action=Sell, ref_price=73.83, bid_price=72.3534, offer_price=75.3066, date=110000), CompletedTrade(ticker=FB, trade_volume=2465, trade_price=182.04479999999998, mm_action=Buy, ref_price=185.76, bid_price=182.04479999999998, offer_price=189.4752, date=115000), CompletedTrade(ticker=AAPL, trade_volume=656, trade_price=75.0288, mm_action=Buy, ref_price=76.56, bid_price=75.0288, offer_price=78.0912, date=120000), CompletedTrade(ticker=FB, trade_volume=1948, trade_price=195.1464, mm_action=Sell, ref_price=191.32, bid_price=187.4936, offer_price=195.1464, date=130000), CompletedTrade(ticker=FB, trade_volume=1386, trade_price=191.90359999999998, mm_action=Buy, ref_price=195.82, bid_price=191.90359999999998, offer_price=199.7364, date=150000)]\n"
     ]
    }
   ],
   "source": [
    "print(mm.completed_trades)"
   ]
  },
  {
   "cell_type": "markdown",
   "metadata": {
    "deletable": false,
    "editable": false,
    "nbgrader": {
     "cell_type": "markdown",
     "checksum": "ab85e68b6fa0b41d670731f4078627a3",
     "grade": false,
     "grade_id": "cell-e8bf17230d0203d7",
     "locked": true,
     "schema_version": 3,
     "solution": false,
     "task": false
    }
   },
   "source": [
    "<div style=\"background-color: #f8f9fa; border: 1px solid #dee2e6; padding: 15px; margin-bottom: 15px; border-radius: 5px;\">\n",
    "    <h4>For Grading Purposes Only</h4>\n",
    "    <p>You don't need to change anything in the cell below. It's used to check your work automatically. Please run it without making any changes.</p>\n",
    "</div>"
   ]
  },
  {
   "cell_type": "code",
   "execution_count": 289,
   "metadata": {
    "deletable": false,
    "editable": false,
    "nbgrader": {
     "cell_type": "code",
     "checksum": "282594aac79b3e4514b36df057b5d6c3",
     "grade": true,
     "grade_id": "cell-92ae5fee0027d4eb",
     "locked": true,
     "points": 1,
     "schema_version": 3,
     "solution": false,
     "task": false
    }
   },
   "outputs": [],
   "source": [
    "# GRADING CELL"
   ]
  },
  {
   "cell_type": "markdown",
   "metadata": {
    "deletable": false,
    "editable": false,
    "nbgrader": {
     "cell_type": "markdown",
     "checksum": "167a0e2af0d1de7f068d2d9e22bb8c07",
     "grade": false,
     "grade_id": "cell-e1ce2acbe9d65639",
     "locked": true,
     "schema_version": 3,
     "solution": false,
     "task": false
    }
   },
   "source": [
    "### **Task I: Visualize Your AAPL Quotes**\n",
    "\n",
    "A key skill for any quant is the ability to visualize data. You will now create a chart to see how your quoted bid and offer prices for **AAPL** behaved around the market's reference price over time.\n",
    "\n",
    "<div style=\"background-color: #FFF3CD; border-left: 6px solid #FFC107; padding: 15px; margin-bottom: 15px; border-radius: 5px;\">\n",
    "    <h4>Chart Requirements</h4>\n",
    "    <p>Your final plot must meet the following criteria:</p>\n",
    "    <ul>\n",
    "        <li><strong>Library:</strong> Use the <code>matplotlib</code> library.</li>\n",
    "        <li><strong>Data:</strong> Only include trades for the ticker <strong>'AAPL'</strong>.</li>\n",
    "        <li><strong>X-axis:</strong> Date</li>\n",
    "        <li><strong>Y-axis:</strong> Bid Price, Offer Price, and Reference Price.</li>\n",
    "    </ul>\n",
    "</div>\n",
    "\n",
    "<div style=\"background-color: #E7F3FE; border-left: 6px solid #2196F3; padding: 15px; margin-bottom: 15px; border-radius: 5px;\">\n",
    "<h4>Your Task</h4>\n",
    "<ol>\n",
    "    <li><strong>Filter the Data:</strong> Create new lists to hold the <code>date</code>, <code>bid_price</code>, <code>offer_price</code>, and <code>ref_price</code> for"
   ]
  },
  {
   "cell_type": "code",
   "execution_count": 290,
   "metadata": {
    "deletable": false,
    "nbgrader": {
     "cell_type": "code",
     "checksum": "f659f5d2abc3dcb646dd2f70d66f5d1c",
     "grade": false,
     "grade_id": "cell-ee63e401086f7686",
     "locked": false,
     "schema_version": 3,
     "solution": true,
     "task": false
    }
   },
   "outputs": [],
   "source": [
    "# Initalises the lists to store all the data\n",
    "bid_data = []\n",
    "offer_data = []\n",
    "quote_dates = []\n",
    "\n",
    "for trade in mm.completed_trades: # Iterate through the completed trades to find the AAPL trades and store the data.\n",
    "    # Append the bid_data and offer_data and quote_dates.\n",
    "    # Insert your answer code here\n",
    "    if trade.ticker == \"AAPL\":\n",
    "        # Append the bid_data and offer_data and quote_dates.\n",
    "        bid_data.append(trade.bid_price)\n",
    "        offer_data.append(trade.offer_price)\n",
    "        quote_dates.append(trade.date)"
   ]
  },
  {
   "cell_type": "markdown",
   "metadata": {
    "deletable": false,
    "editable": false,
    "nbgrader": {
     "cell_type": "markdown",
     "checksum": "4ce5148196536b164a6b614213cca7ee",
     "grade": false,
     "grade_id": "cell-8f76913a7c10dd85",
     "locked": true,
     "schema_version": 3,
     "solution": false,
     "task": false
    }
   },
   "source": [
    "<div style=\"background-color: #D4EDDA; border-left: 6px solid #28A745; padding: 15px; margin-bottom: 15px; border-radius: 5px;\">\n",
    "    <h4>Output Check</h4>\n",
    "    <p>Run the cell below to print the lists you just created for your plot.</p>\n",
    "    <p>Before plotting, it's crucial to confirm that all lists have the <b>same length</b>. If they do, your data is ready for visualization!</p>\n",
    "</div>"
   ]
  },
  {
   "cell_type": "code",
   "execution_count": 291,
   "metadata": {
    "deletable": false,
    "editable": false,
    "nbgrader": {
     "cell_type": "code",
     "checksum": "818551955dceb53a4364a42c34a43a70",
     "grade": false,
     "grade_id": "cell-35bfc92204cc0982",
     "locked": true,
     "schema_version": 3,
     "solution": false,
     "task": false
    }
   },
   "outputs": [
    {
     "name": "stdout",
     "output_type": "stream",
     "text": [
      "bid_data: [73.1374, 71.6674, 72.3534, 75.0288]\n",
      "offer_data: [76.12259999999999, 74.59259999999999, 75.3066, 78.0912]\n",
      "quote_dates: [10000, 105000, 110000, 120000]\n"
     ]
    }
   ],
   "source": [
    "print(\"bid_data:\", bid_data)\n",
    "print(\"offer_data:\", offer_data)\n",
    "print(\"quote_dates:\", quote_dates)"
   ]
  },
  {
   "cell_type": "markdown",
   "metadata": {
    "deletable": false,
    "editable": false,
    "nbgrader": {
     "cell_type": "markdown",
     "checksum": "209e9d0bd4b3a1d291182da9da764e3f",
     "grade": false,
     "grade_id": "cell-811ecb8839822f75",
     "locked": true,
     "schema_version": 3,
     "solution": false,
     "task": false
    }
   },
   "source": [
    "The `quote_dates`, `bid_data`, and `offer_data` lists are now ready.\n",
    "\n",
    "<div style=\"background-color: #E7F3FE; border-left: 6px solid #2196F3; padding: 15px; margin-bottom: 15px; border-radius: 5px;\">\n",
    "    <h4>Your Task</h4>\n",
    "    <p>The last piece of data you need for your chart is the reference price for each of your AAPL quotes.</p>\n",
    "    <ol>\n",
    "        <li>Create a new empty list called <code>ref_price_data</code>.</li>\n",
    "        <li>You will need to find the reference price that corresponds to each date in your <code>quote_dates</code> list.</li>\n",
    "        <li>Loop through your data source (e.g., <code>request_with_prices</code> or <code>market_maker.quoted_trades</code>) to find the <code>ref_price</code> for each AAPL quote and append it to your new list.</li>\n",
    "    </ol>\n",
    "</div>\n",
    "\n",
    "<div style=\"background-color: #F8F9F9; border: 1px solid #DEE2E6; padding: 10px; margin-top: 15px; border-radius: 5px; width:fit-content;\">\n",
    "💡 <b>Check your work:</b> The new <code>ref_price_data</code> list must have the same length as your other lists.\n",
    "</div>"
   ]
  },
  {
   "cell_type": "code",
   "execution_count": 292,
   "metadata": {
    "deletable": false,
    "nbgrader": {
     "cell_type": "code",
     "checksum": "f7a241dde57306d8045febae16b251ec",
     "grade": false,
     "grade_id": "cell-2bd8af9c8806005a",
     "locked": false,
     "schema_version": 3,
     "solution": true,
     "task": false
    }
   },
   "outputs": [],
   "source": [
    "# Replace the ? in this task with your answer.\n",
    "\n",
    "ref_data = []\n",
    "ref_dates = []\n",
    "\n",
    "for price in prices: # Iterate through the quotes to find each AAPL ticker and matching price data.\n",
    "    # Add filtering to ensure we find AAPL trades and all trades upto the last quote_dates.\n",
    "    # Append the ref_data and ref_dates\n",
    "    # Insert your answer code here\n",
    "    if price[0] == \"AAPL\":\n",
    "        # Add filtering to ensure we find AAPL trades and all trades upto the last quote_dates.\n",
    "        # Append the ref_data and ref_dates\n",
    "        ref_data.append(price[2])  # Reference price\n",
    "        ref_dates.append(price[1])  # Date"
   ]
  },
  {
   "cell_type": "markdown",
   "metadata": {
    "deletable": false,
    "editable": false,
    "nbgrader": {
     "cell_type": "markdown",
     "checksum": "0b10f60d4f5534954b5e1f9efcf15c48",
     "grade": false,
     "grade_id": "cell-21a63db85ddbd711",
     "locked": true,
     "schema_version": 3,
     "solution": false,
     "task": false
    }
   },
   "source": [
    "<div style=\"background-color: #D4EDDA; border-left: 6px solid #28A745; padding: 15px; margin-bottom: 15px; border-radius: 5px;\">\n",
    "    <h4>Output Check</h4>\n",
    "    <p>Run the cell below to verify your lists before plotting.</p>\n",
    "    <p>Confirm that your new <code>ref_price_data</code> list has the <b>same length</b> as the <code>quote_dates</code>, <code>bid_data</code>, and <code>offer_data</code> lists. If all lengths match, you are ready to create your graph!</p>\n",
    "</div>"
   ]
  },
  {
   "cell_type": "code",
   "execution_count": 293,
   "metadata": {
    "deletable": false,
    "editable": false,
    "nbgrader": {
     "cell_type": "code",
     "checksum": "745ddc4e07977b3dba8c5b4839f74154",
     "grade": false,
     "grade_id": "cell-5beac75cf6de3b71",
     "locked": true,
     "schema_version": 3,
     "solution": false,
     "task": false
    }
   },
   "outputs": [
    {
     "name": "stdout",
     "output_type": "stream",
     "text": [
      "ref_data: [74.7, 74.81, 74.63, 73.83, 75.24, 73.96, 74.21, 74.7, 75.38, 74.01, 73.26, 73.08, 72.88, 72.46, 72.41, 72.33, 71.44, 71.49, 71.59, 72.53, 72.84, 73.13, 73.83, 75.68, 76.56, 78.38, 78.04, 78.77, 79.39, 78.91, 77.48, 76.23, 74.2, 73.46, 73.9, 75.8, 75.24, 74.62, 75.27, 74.26, 73.71, 75.11, 73.95, 74.77, 75.11, 74.69, 73.18, 71.14, 69.25, 67.99, 66.57, 66.11, 66.68, 65.78, 66.38, 67.04, 68.1, 69.29, 69.94, 70.58, 69.88, 70.43, 70.39, 68.86, 69.09, 69.02, 69.28, 68.05, 67.63, 67.65, 67.09, 62.06, 61.78, 61.63, 61.28, 62.0, 62.69, 63.1, 64.24, 65.1, 64.91, 63.38, 62.35, 61.42, 60.84, 59.57, 59.53, 60.55, 60.85, 60.09, 61.62, 62.09, 62.15, 62.07, 62.78, 63.22, 64.21, 65.33, 64.8, 65.2, 65.04, 64.66, 64.01, 62.67, 61.6, 62.02, 63.39, 64.31, 64.04, 64.02, 64.49, 63.2, 61.51, 62.45, 62.03, 62.2, 61.7, 60.68, 60.33, 59.31, 58.32, 58.03, 57.67, 58.34, 59.12, 59.54, 58.63, 57.49, 56.97, 56.95, 57.13, 57.86, 57.76, 57.81, 58.38, 59.32, 60.25, 60.74, 59.76, 60.11, 61.71, 61.98, 62.27, 61.38, 60.83, 60.52, 59.07, 58.47, 57.9, 56.8, 57.79, 59.01, 60.42, 61.92, 62.67, 63.71, 64.33, 65.08, 64.62, 63.54, 62.23, 61.8, 61.3, 60.18, 60.43, 60.69, 61.08, 62.4, 63.15, 63.61, 64.69, 64.98, 66.73, 66.86, 66.48, 65.57, 64.82, 65.22, 65.67, 65.38, 65.8, 64.97, 64.73, 60.23, 60.64, 60.36, 60.51, 61.43, 60.68, 60.66, 59.94, 61.23, 61.45, 62.88, 63.94, 63.37, 63.26, 63.65, 64.07, 63.35, 62.55, 62.18, 63.02, 62.23, 63.57, 64.42, 64.62, 65.62, 65.83, 66.74, 65.98, 66.34, 67.03, 67.77, 68.02, 66.86, 65.89, 65.0, 64.81, 64.59, 64.61, 64.55, 65.08, 66.52, 67.97, 68.39, 69.13, 69.51, 69.2, 68.9, 68.2, 67.0, 67.39, 67.45, 67.33, 68.59, 68.31, 67.85, 67.27, 68.31, 68.59, 67.72, 67.59, 69.14, 70.15, 68.7, 69.21, 70.76, 71.02, 69.74, 69.28, 69.24, 70.47, 71.59, 71.29, 71.11, 71.52, 72.85, 72.23, 72.07, 71.88, 73.2, 73.72, 71.67, 70.66, 70.23, 70.92, 72.07, 71.45, 71.27, 71.77, 70.7, 70.02, 68.82, 67.91, 67.05, 66.72, 66.61, 67.23, 68.23, 69.19, 70.35, 71.56, 72.94, 73.18, 73.33, 72.29, 70.89, 69.49, 68.95, 70.13, 69.49, 70.8, 70.07, 70.84, 69.03, 69.13, 68.72, 69.42, 70.36, 70.62, 71.23, 71.24, 70.76, 69.59, 68.8, 67.7, 68.38, 68.75, 68.35, 68.43, 69.74, 70.61, 69.61, 70.14, 70.2, 70.42, 71.09, 72.06, 70.79, 69.84, 71.48, 70.46, 70.78, 70.39, 69.07, 68.87, 69.64, 69.66, 70.3, 71.76, 70.71, 71.25, 70.94, 71.78, 72.33, 73.52, 74.18, 74.77, 74.28, 75.04, 74.58, 74.94, 73.45, 72.39, 71.38, 71.94, 72.26, 72.86, 73.65, 74.13, 73.27, 71.97, 70.96, 71.74, 73.26, 72.27, 73.17, 72.76, 73.29, 73.94, 74.11, 73.78, 74.23, 74.16, 74.31, 73.84, 74.39, 74.63, 74.29, 76.49, 75.63, 74.24, 73.61, 75.37, 75.16, 74.99, 76.06, 75.97, 76.66, 77.79, 78.53, 78.82, 75.94, 76.14, 75.33, 75.22, 74.7, 75.05, 74.99, 75.4, 76.53, 77.74, 76.6, 76.42, 77.23, 77.88, 79.32, 79.3, 78.75, 78.32, 78.4, 76.65, 76.5, 77.55, 77.99, 78.33, 77.85, 78.44, 77.12, 76.24, 76.64, 76.72, 75.96, 77.19, 76.91, 76.82, 77.58, 77.62, 79.83, 80.09, 79.8, 80.02, 78.39, 77.86, 77.33, 76.16, 75.96, 75.51, 77.25, 78.04, 76.93, 76.23, 76.64, 75.96, 76.96, 77.32, 76.87, 78.01, 78.74, 79.4, 78.37, 78.59, 78.26, 79.5, 79.74, 79.62, 78.28, 79.16, 78.49, 78.73, 79.61, 79.58, 80.77, 81.11, 79.81, 79.66, 81.33, 82.15, 82.25, 81.61, 82.36, 82.1, 81.21, 80.56, 80.25, 81.79, 83.1, 83.33, 83.06, 82.02, 79.72, 80.8, 81.76, 81.84, 82.28, 81.81, 82.29, 82.47, 81.18, 80.76, 79.97, 79.89, 80.44, 80.88, 82.58, 82.79, 81.53, 80.84, 80.43, 80.53, 81.27, 82.75, 84.02, 83.8, 82.39, 81.54, 80.92, 80.41, 80.35, 78.99, 79.58, 81.29, 79.48, 81.09, 80.68, 79.99, 80.65, 80.37, 81.06, 81.62, 80.46, 79.28, 80.1, 81.04, 81.5, 82.62, 83.19, 82.13, 80.83, 80.89, 80.79, 79.75, 79.16, 78.91, 79.34, 79.33, 81.28, 81.72, 82.26, 81.19, 81.46, 81.8, 82.03, 82.65, 80.58, 80.93, 81.55, 81.04, 81.98, 82.34, 83.28, 82.89, 82.88, 81.36, 82.55, 82.43, 83.49, 83.12, 83.1, 81.15, 83.36, 84.15, 85.79, 84.53, 85.62, 86.37, 87.87, 88.1, 86.0, 86.69, 87.25, 87.2, 86.69, 86.3, 86.08, 86.54, 88.21, 88.4, 88.05, 89.28, 90.32, 89.04, 87.99, 86.82, 85.98, 85.29, 84.57, 85.38, 86.34, 87.27, 88.54, 88.45, 86.9, 85.97, 84.71, 83.83, 84.12, 83.93, 83.89, 84.61, 85.75, 85.88, 86.08, 87.1, 88.79, 88.67, 88.91, 89.14, 88.02, 88.78, 88.18, 87.27, 86.83, 86.45, 87.82, 88.03, 87.9, 87.63, 86.88, 87.92, 88.37, 89.38, 90.19, 90.04, 88.93, 87.56, 86.81, 87.26, 86.95, 87.4, 87.59, 87.49, 87.43, 87.83, 88.55, 87.08, 86.8, 85.96, 86.09, 86.04, 87.72, 87.55, 87.09, 85.72, 84.85, 85.12, 84.14, 85.38, 91.63, 89.18, 89.87, 90.79, 92.53, 92.78, 93.75, 94.67, 93.02, 92.26, 92.13, 93.09, 93.25, 94.03, 95.84, 95.53, 93.81, 92.89, 93.03, 92.13, 91.19, 91.77, 92.02, 92.04, 91.41, 89.97, 89.83, 90.28, 90.98, 92.29, 92.16, 92.45, 90.84, 90.16, 91.33, 90.33, 88.16, 88.6, 88.45, 88.18, 89.2, 90.16, 90.23, 91.54, 91.48, 91.91, 91.76, 91.15, 91.03, 88.57, 89.64, 90.07, 89.9, 90.99, 92.66, 93.62, 91.03, 93.57, 93.91, 92.23, 92.31, 90.72, 90.29, 92.81, 93.46, 93.14, 92.65, 93.99, 94.22, 93.86, 94.8, 94.41, 93.17, 94.81, 95.18, 94.99, 96.68, 97.42, 96.8, 97.7, 95.34, 93.88, 93.94, 95.07, 94.76, 95.02, 96.43, 97.36, 95.75, 95.47, 96.05, 98.02, 98.24, 99.65, 99.9, 100.04, 98.92, 97.52, 96.47, 94.97, 93.34, 92.88, 93.71, 95.68, 95.48, 96.36, 96.86, 97.51, 97.65, 99.22, 100.86, 101.02, 100.06, 100.08, 99.21, 100.79, 99.85, 99.76, 100.64, 101.08, 99.72, 99.37, 99.68, 99.81, 99.98, 101.14, 101.55, 100.71, 99.52, 97.44, 98.89, 98.96, 97.55, 98.56, 98.24, 97.1, 96.33, 95.61, 94.93, 96.1, 95.95, 96.01, 95.1, 96.84, 98.36, 98.43, 98.26, 97.91, 98.16, 98.24, 98.56, 97.09, 97.0, 97.12, 98.45, 98.14, 99.43, 100.73, 100.22, 100.07, 98.87, 97.13, 95.68, 94.08, 93.49, 94.04, 94.25, 94.31, 92.84, 93.16, 94.12, 93.99, 93.5, 93.49, 95.04, 95.68, 94.62, 93.33, 94.75, 94.92, 96.08, 97.31, 98.42, 100.14, 98.81, 96.43, 94.58, 95.11, 96.73, 97.93, 97.28, 96.06, 95.25, 94.79, 94.48, 95.71, 95.31, 95.26, 94.15, 93.34, 95.04, 94.56, 94.34, 94.89, 96.43, 96.69, 97.98, 98.31, 96.19, 94.79, 95.19, 95.88, 97.9, 98.52, 98.84, 99.54, 101.26, 102.98, 104.38, 106.34, 107.07, 106.95, 108.86, 108.53, 108.94, 107.97, 107.99, 106.79, 107.65, 108.04, 108.12, 108.55, 109.66, 109.67, 110.9, 111.39, 109.69, 109.64, 110.87, 110.7, 110.06, 111.81, 113.53, 112.81, 113.01, 112.77, 114.17, 116.97, 113.9, 115.55, 117.43, 117.47, 119.42, 119.3, 119.95, 120.92, 118.11, 116.9, 115.92, 114.29, 113.17, 112.08, 113.0, 113.21, 112.73, 113.36, 113.91, 112.6, 112.61, 109.68, 109.7, 109.52, 109.38, 109.79, 109.79, 110.49, 110.42, 110.26, 108.97, 107.99, 109.01, 110.59, 111.67, 112.09, 110.92, 112.06, 112.74, 114.04, 115.01, 113.42, 112.49, 111.55, 112.22, 112.7, 114.39, 115.69, 114.91, 115.7, 115.49, 117.34, 118.05, 118.26, 119.72, 120.88, 118.61, 116.91, 114.72, 114.6, 115.25, 113.16, 114.91, 115.98, 115.56, 115.35, 117.05, 118.06, 116.48, 115.91, 117.59, 118.12, 116.71, 117.71, 115.86, 116.66, 117.14, 114.48, 115.0, 116.03, 118.28, 119.38, 118.08, 117.1, 115.24, 114.64, 117.19, 118.07, 120.37, 122.66, 124.41, 126.42, 128.33, 130.85, 131.01, 130.92, 128.86, 127.02, 128.99, 129.03, 128.17, 128.94, 129.45, 130.41, 128.82, 126.94, 125.38, 126.83, 126.77, 128.25, 129.27, 129.95, 126.52, 126.37, 125.26, 123.72, 123.64, 126.23, 124.48, 124.84, 125.01, 127.2, 125.77, 127.35, 127.62, 125.8, 127.51, 127.42, 124.81, 123.52, 125.49, 127.6, 128.45, 127.28, 123.01, 120.62, 118.04, 116.1, 117.06, 119.21, 121.99, 122.51, 123.61, 125.49, 127.18, 129.84, 131.54, 133.92, 135.95, 137.95, 139.37, 137.94, 135.4, 133.24, 133.2, 134.73, 134.83, 134.43, 133.66, 133.09, 131.88, 129.69, 127.57, 125.15, 123.15, 121.0, 120.44, 120.79, 120.96, 120.21, 120.58, 120.65, 122.04, 122.76, 124.1, 123.5, 120.82, 118.8, 116.47, 116.93, 116.46, 117.88, 119.34, 118.55, 117.32, 117.74, 119.84, 117.74, 118.24, 117.44, 121.28, 120.22, 117.89, 115.78, 114.33, 113.99, 114.64, 115.59, 116.19, 118.75, 112.0, 110.09, 107.87, 108.39, 107.42, 108.36, 110.82, 111.11, 112.36, 114.47, 112.98, 114.39, 115.58, 113.87, 112.59, 113.51, 115.54, 116.16, 118.27, 118.52, 118.09, 116.96, 116.08, 116.22, 114.13, 111.2, 108.84, 108.89, 108.84, 108.5, 108.23, 108.15, 110.34, 111.53, 111.79, 112.65, 112.75, 113.04, 113.1, 112.73, 110.84, 109.34, 110.16, 108.88, 107.62, 108.14, 108.2, 110.06, 110.08, 110.33, 109.59, 108.63, 108.42, 108.74]\n",
      "ref_dates: [0, 5000, 10000, 15000, 20000, 25000, 30000, 35000, 40000, 45000, 50000, 55000, 60000, 65000, 70000, 75000, 80000, 85000, 90000, 95000, 100000, 105000, 110000, 115000, 120000, 125000, 130000, 135000, 140000, 145000, 150000, 155000, 160000, 165000, 170000, 175000, 180000, 185000, 190000, 195000, 200000, 205000, 210000, 215000, 220000, 225000, 230000, 235000, 240000, 245000, 250000, 255000, 260000, 265000, 270000, 275000, 280000, 285000, 290000, 295000, 300000, 305000, 310000, 315000, 320000, 325000, 330000, 335000, 340000, 345000, 350000, 355000, 360000, 365000, 370000, 375000, 380000, 385000, 390000, 395000, 400000, 405000, 410000, 415000, 420000, 425000, 430000, 435000, 440000, 445000, 450000, 455000, 460000, 465000, 470000, 475000, 480000, 485000, 490000, 495000, 500000, 505000, 510000, 515000, 520000, 525000, 530000, 535000, 540000, 545000, 550000, 555000, 560000, 565000, 570000, 575000, 580000, 585000, 590000, 595000, 600000, 605000, 610000, 615000, 620000, 625000, 630000, 635000, 640000, 645000, 650000, 655000, 660000, 665000, 670000, 675000, 680000, 685000, 690000, 695000, 700000, 705000, 710000, 715000, 720000, 725000, 730000, 735000, 740000, 745000, 750000, 755000, 760000, 765000, 770000, 775000, 780000, 785000, 790000, 795000, 800000, 805000, 810000, 815000, 820000, 825000, 830000, 835000, 840000, 845000, 850000, 855000, 860000, 865000, 870000, 875000, 880000, 885000, 890000, 895000, 900000, 905000, 910000, 915000, 920000, 925000, 930000, 935000, 940000, 945000, 950000, 955000, 960000, 965000, 970000, 975000, 980000, 985000, 990000, 995000, 1000000, 1005000, 1010000, 1015000, 1020000, 1025000, 1030000, 1035000, 1040000, 1045000, 1050000, 1055000, 1060000, 1065000, 1070000, 1075000, 1080000, 1085000, 1090000, 1095000, 1100000, 1105000, 1110000, 1115000, 1120000, 1125000, 1130000, 1135000, 1140000, 1145000, 1150000, 1155000, 1160000, 1165000, 1170000, 1175000, 1180000, 1185000, 1190000, 1195000, 1200000, 1205000, 1210000, 1215000, 1220000, 1225000, 1230000, 1235000, 1240000, 1245000, 1250000, 1255000, 1260000, 1265000, 1270000, 1275000, 1280000, 1285000, 1290000, 1295000, 1300000, 1305000, 1310000, 1315000, 1320000, 1325000, 1330000, 1335000, 1340000, 1345000, 1350000, 1355000, 1360000, 1365000, 1370000, 1375000, 1380000, 1385000, 1390000, 1395000, 1400000, 1405000, 1410000, 1415000, 1420000, 1425000, 1430000, 1435000, 1440000, 1445000, 1450000, 1455000, 1460000, 1465000, 1470000, 1475000, 1480000, 1485000, 1490000, 1495000, 1500000, 1505000, 1510000, 1515000, 1520000, 1525000, 1530000, 1535000, 1540000, 1545000, 1550000, 1555000, 1560000, 1565000, 1570000, 1575000, 1580000, 1585000, 1590000, 1595000, 1600000, 1605000, 1610000, 1615000, 1620000, 1625000, 1630000, 1635000, 1640000, 1645000, 1650000, 1655000, 1660000, 1665000, 1670000, 1675000, 1680000, 1685000, 1690000, 1695000, 1700000, 1705000, 1710000, 1715000, 1720000, 1725000, 1730000, 1735000, 1740000, 1745000, 1750000, 1755000, 1760000, 1765000, 1770000, 1775000, 1780000, 1785000, 1790000, 1795000, 1800000, 1805000, 1810000, 1815000, 1820000, 1825000, 1830000, 1835000, 1840000, 1845000, 1850000, 1855000, 1860000, 1865000, 1870000, 1875000, 1880000, 1885000, 1890000, 1895000, 1900000, 1905000, 1910000, 1915000, 1920000, 1925000, 1930000, 1935000, 1940000, 1945000, 1950000, 1955000, 1960000, 1965000, 1970000, 1975000, 1980000, 1985000, 1990000, 1995000, 2000000, 2005000, 2010000, 2015000, 2020000, 2025000, 2030000, 2035000, 2040000, 2045000, 2050000, 2055000, 2060000, 2065000, 2070000, 2075000, 2080000, 2085000, 2090000, 2095000, 2100000, 2105000, 2110000, 2115000, 2120000, 2125000, 2130000, 2135000, 2140000, 2145000, 2150000, 2155000, 2160000, 2165000, 2170000, 2175000, 2180000, 2185000, 2190000, 2195000, 2200000, 2205000, 2210000, 2215000, 2220000, 2225000, 2230000, 2235000, 2240000, 2245000, 2250000, 2255000, 2260000, 2265000, 2270000, 2275000, 2280000, 2285000, 2290000, 2295000, 2300000, 2305000, 2310000, 2315000, 2320000, 2325000, 2330000, 2335000, 2340000, 2345000, 2350000, 2355000, 2360000, 2365000, 2370000, 2375000, 2380000, 2385000, 2390000, 2395000, 2400000, 2405000, 2410000, 2415000, 2420000, 2425000, 2430000, 2435000, 2440000, 2445000, 2450000, 2455000, 2460000, 2465000, 2470000, 2475000, 2480000, 2485000, 2490000, 2495000, 2500000, 2505000, 2510000, 2515000, 2520000, 2525000, 2530000, 2535000, 2540000, 2545000, 2550000, 2555000, 2560000, 2565000, 2570000, 2575000, 2580000, 2585000, 2590000, 2595000, 2600000, 2605000, 2610000, 2615000, 2620000, 2625000, 2630000, 2635000, 2640000, 2645000, 2650000, 2655000, 2660000, 2665000, 2670000, 2675000, 2680000, 2685000, 2690000, 2695000, 2700000, 2705000, 2710000, 2715000, 2720000, 2725000, 2730000, 2735000, 2740000, 2745000, 2750000, 2755000, 2760000, 2765000, 2770000, 2775000, 2780000, 2785000, 2790000, 2795000, 2800000, 2805000, 2810000, 2815000, 2820000, 2825000, 2830000, 2835000, 2840000, 2845000, 2850000, 2855000, 2860000, 2865000, 2870000, 2875000, 2880000, 2885000, 2890000, 2895000, 2900000, 2905000, 2910000, 2915000, 2920000, 2925000, 2930000, 2935000, 2940000, 2945000, 2950000, 2955000, 2960000, 2965000, 2970000, 2975000, 2980000, 2985000, 2990000, 2995000, 3000000, 3005000, 3010000, 3015000, 3020000, 3025000, 3030000, 3035000, 3040000, 3045000, 3050000, 3055000, 3060000, 3065000, 3070000, 3075000, 3080000, 3085000, 3090000, 3095000, 3100000, 3105000, 3110000, 3115000, 3120000, 3125000, 3130000, 3135000, 3140000, 3145000, 3150000, 3155000, 3160000, 3165000, 3170000, 3175000, 3180000, 3185000, 3190000, 3195000, 3200000, 3205000, 3210000, 3215000, 3220000, 3225000, 3230000, 3235000, 3240000, 3245000, 3250000, 3255000, 3260000, 3265000, 3270000, 3275000, 3280000, 3285000, 3290000, 3295000, 3300000, 3305000, 3310000, 3315000, 3320000, 3325000, 3330000, 3335000, 3340000, 3345000, 3350000, 3355000, 3360000, 3365000, 3370000, 3375000, 3380000, 3385000, 3390000, 3395000, 3400000, 3405000, 3410000, 3415000, 3420000, 3425000, 3430000, 3435000, 3440000, 3445000, 3450000, 3455000, 3460000, 3465000, 3470000, 3475000, 3480000, 3485000, 3490000, 3495000, 3500000, 3505000, 3510000, 3515000, 3520000, 3525000, 3530000, 3535000, 3540000, 3545000, 3550000, 3555000, 3560000, 3565000, 3570000, 3575000, 3580000, 3585000, 3590000, 3595000, 3600000, 3605000, 3610000, 3615000, 3620000, 3625000, 3630000, 3635000, 3640000, 3645000, 3650000, 3655000, 3660000, 3665000, 3670000, 3675000, 3680000, 3685000, 3690000, 3695000, 3700000, 3705000, 3710000, 3715000, 3720000, 3725000, 3730000, 3735000, 3740000, 3745000, 3750000, 3755000, 3760000, 3765000, 3770000, 3775000, 3780000, 3785000, 3790000, 3795000, 3800000, 3805000, 3810000, 3815000, 3820000, 3825000, 3830000, 3835000, 3840000, 3845000, 3850000, 3855000, 3860000, 3865000, 3870000, 3875000, 3880000, 3885000, 3890000, 3895000, 3900000, 3905000, 3910000, 3915000, 3920000, 3925000, 3930000, 3935000, 3940000, 3945000, 3950000, 3955000, 3960000, 3965000, 3970000, 3975000, 3980000, 3985000, 3990000, 3995000, 4000000, 4005000, 4010000, 4015000, 4020000, 4025000, 4030000, 4035000, 4040000, 4045000, 4050000, 4055000, 4060000, 4065000, 4070000, 4075000, 4080000, 4085000, 4090000, 4095000, 4100000, 4105000, 4110000, 4115000, 4120000, 4125000, 4130000, 4135000, 4140000, 4145000, 4150000, 4155000, 4160000, 4165000, 4170000, 4175000, 4180000, 4185000, 4190000, 4195000, 4200000, 4205000, 4210000, 4215000, 4220000, 4225000, 4230000, 4235000, 4240000, 4245000, 4250000, 4255000, 4260000, 4265000, 4270000, 4275000, 4280000, 4285000, 4290000, 4295000, 4300000, 4305000, 4310000, 4315000, 4320000, 4325000, 4330000, 4335000, 4340000, 4345000, 4350000, 4355000, 4360000, 4365000, 4370000, 4375000, 4380000, 4385000, 4390000, 4395000, 4400000, 4405000, 4410000, 4415000, 4420000, 4425000, 4430000, 4435000, 4440000, 4445000, 4450000, 4455000, 4460000, 4465000, 4470000, 4475000, 4480000, 4485000, 4490000, 4495000, 4500000, 4505000, 4510000, 4515000, 4520000, 4525000, 4530000, 4535000, 4540000, 4545000, 4550000, 4555000, 4560000, 4565000, 4570000, 4575000, 4580000, 4585000, 4590000, 4595000, 4600000, 4605000, 4610000, 4615000, 4620000, 4625000, 4630000, 4635000, 4640000, 4645000, 4650000, 4655000, 4660000, 4665000, 4670000, 4675000, 4680000, 4685000, 4690000, 4695000, 4700000, 4705000, 4710000, 4715000, 4720000, 4725000, 4730000, 4735000, 4740000, 4745000, 4750000, 4755000, 4760000, 4765000, 4770000, 4775000, 4780000, 4785000, 4790000, 4795000, 4800000, 4805000, 4810000, 4815000, 4820000, 4825000, 4830000, 4835000, 4840000, 4845000, 4850000, 4855000, 4860000, 4865000, 4870000, 4875000, 4880000, 4885000, 4890000, 4895000, 4900000, 4905000, 4910000, 4915000, 4920000, 4925000, 4930000, 4935000, 4940000, 4945000, 4950000, 4955000, 4960000, 4965000, 4970000, 4975000, 4980000, 4985000, 4990000, 4995000, 5000000, 5005000, 5010000, 5015000, 5020000, 5025000, 5030000, 5035000, 5040000, 5045000, 5050000, 5055000, 5060000, 5065000, 5070000, 5075000, 5080000, 5085000, 5090000, 5095000, 5100000, 5105000, 5110000, 5115000, 5120000, 5125000, 5130000, 5135000, 5140000, 5145000, 5150000, 5155000, 5160000, 5165000, 5170000, 5175000, 5180000, 5185000, 5190000, 5195000, 5200000, 5205000, 5210000, 5215000, 5220000, 5225000, 5230000, 5235000, 5240000, 5245000, 5250000, 5255000, 5260000, 5265000, 5270000, 5275000, 5280000, 5285000, 5290000, 5295000, 5300000, 5305000, 5310000, 5315000, 5320000, 5325000, 5330000, 5335000, 5340000, 5345000, 5350000, 5355000, 5360000, 5365000, 5370000, 5375000, 5380000, 5385000, 5390000, 5395000, 5400000, 5405000, 5410000, 5415000, 5420000, 5425000, 5430000, 5435000, 5440000, 5445000, 5450000, 5455000, 5460000, 5465000, 5470000, 5475000, 5480000, 5485000, 5490000, 5495000, 5500000, 5505000, 5510000, 5515000, 5520000, 5525000, 5530000, 5535000, 5540000, 5545000, 5550000, 5555000, 5560000, 5565000, 5570000, 5575000, 5580000, 5585000, 5590000, 5595000, 5600000, 5605000, 5610000, 5615000, 5620000, 5625000, 5630000, 5635000, 5640000, 5645000, 5650000, 5655000, 5660000, 5665000, 5670000, 5675000, 5680000, 5685000, 5690000, 5695000, 5700000]\n"
     ]
    }
   ],
   "source": [
    "print(\"ref_data:\", ref_data)\n",
    "print(\"ref_dates:\", ref_dates)"
   ]
  },
  {
   "cell_type": "markdown",
   "metadata": {
    "deletable": false,
    "editable": false,
    "nbgrader": {
     "cell_type": "markdown",
     "checksum": "4d3d20625247f416f7512670cf92ffb6",
     "grade": false,
     "grade_id": "cell-b29e85da25279043",
     "locked": true,
     "schema_version": 3,
     "solution": false,
     "task": false
    }
   },
   "source": [
    "<div style=\"background-color: #E7F3FE; border-left: 6px solid #2196F3; padding: 15px; margin-bottom: 15px; border-radius: 5px;\">\n",
    "    <h4>Your Task</h4>\n",
    "    <p>All your data is now prepared. It's time to create the final visualization.</p>\n",
    "    <ol>\n",
    "        <li>Use <code>axes.plot()</code> to plot your <strong>bid</strong>, <strong>offer</strong>, and <strong>reference price</strong> data against your <strong>date</strong> data.</li>\n",
    "        <li>Customize your chart with a title, axis labels (e.g., 'Date', 'Price'), and a legend to make it clear and professional.</li>\n",
    "    </ol>\n",
    "</div>"
   ]
  },
  {
   "cell_type": "code",
   "execution_count": 294,
   "metadata": {
    "deletable": false,
    "nbgrader": {
     "cell_type": "code",
     "checksum": "9c1d6e99f344ca64ba613bc2d85b7a1c",
     "grade": false,
     "grade_id": "cell-a497c155f275b2bc",
     "locked": false,
     "schema_version": 3,
     "solution": true,
     "task": false
    }
   },
   "outputs": [
    {
     "data": {
      "image/png": "[encoded data removed]",
      "text/plain": [
       "<Figure size 640x480 with 1 Axes>"
      ]
     },
     "metadata": {},
     "output_type": "display_data"
    }
   ],
   "source": [
    "import matplotlib.pyplot as plt\n",
    "\n",
    "# Ensure all arrays match in length\n",
    "min_len = min(len(quote_dates), len(bid_data), len(offer_data), len(ref_data))\n",
    "\n",
    "quote_dates_trimmed = quote_dates[:min_len]\n",
    "bid_data_trimmed = bid_data[:min_len]\n",
    "offer_data_trimmed = offer_data[:min_len]\n",
    "ref_data_trimmed = ref_data[:min_len]\n",
    "\n",
    "# Create axis\n",
    "axes = plt.subplot()\n",
    "\n",
    "# Plot bid, offer, and reference prices\n",
    "axes.plot(quote_dates_trimmed, bid_data_trimmed, label='Bid Price')\n",
    "axes.plot(quote_dates_trimmed, offer_data_trimmed, label='Offer Price')\n",
    "axes.plot(quote_dates_trimmed, ref_data_trimmed, label='Reference Price')\n",
    "\n",
    "# Add title, labels, legend, and grid\n",
    "axes.set_title('AAPL Quote Prices Over Time')\n",
    "axes.set_xlabel('Date')\n",
    "axes.set_ylabel('Price')\n",
    "axes.legend()\n",
    "axes.grid(True)\n",
    "\n",
    "plt.show()"
   ]
  },
  {
   "cell_type": "markdown",
   "metadata": {
    "deletable": false,
    "editable": false,
    "nbgrader": {
     "cell_type": "markdown",
     "checksum": "a535734cc9ea2a01d2d5a2ebc8581d0b",
     "grade": false,
     "grade_id": "cell-7851b7dd3470c340",
     "locked": true,
     "schema_version": 3,
     "solution": false,
     "task": false
    }
   },
   "source": [
    "<div style=\"background-color: #f8f9fa; border: 1px solid #dee2e6; padding: 15px; margin-bottom: 15px; border-radius: 5px;\">\n",
    "    <h4>For Grading Purposes Only</h4>\n",
    "    <p>You don't need to change anything in the cell below. It's used to check your work automatically. Please run it without making any changes.</p>\n",
    "</div>"
   ]
  },
  {
   "cell_type": "code",
   "execution_count": 295,
   "metadata": {
    "deletable": false,
    "editable": false,
    "nbgrader": {
     "cell_type": "code",
     "checksum": "79fbcc607e0b2782287e12b1d934a19c",
     "grade": true,
     "grade_id": "cell-48a06ca8c2b89114",
     "locked": true,
     "points": 1,
     "schema_version": 3,
     "solution": false,
     "task": false
    }
   },
   "outputs": [],
   "source": [
    "# GRADING CELL"
   ]
  },
  {
   "cell_type": "markdown",
   "metadata": {
    "deletable": false,
    "editable": false,
    "nbgrader": {
     "cell_type": "markdown",
     "checksum": "8388c64a49923df95d5e6d54366d5b41",
     "grade": false,
     "grade_id": "986049254f29a0411",
     "locked": true,
     "schema_version": 3,
     "solution": false,
     "task": false
    }
   },
   "source": [
    "<img src=\"https://algo-assets.amplifyme.com/quant/millenium/Millenium_Quant_C2.png\" width=\"100%\"/>"
   ]
  },
  {
   "cell_type": "markdown",
   "metadata": {
    "deletable": false,
    "editable": false,
    "nbgrader": {
     "cell_type": "markdown",
     "checksum": "178b163e562b703dcaec248713d1b25e",
     "grade": false,
     "grade_id": "cell-e6f6cd0513742a1f",
     "locked": true,
     "schema_version": 3,
     "solution": false,
     "task": false
    }
   },
   "source": [
    "## **Challenge 2: Price Skewing & Risk Management**\n",
    "\n",
    "In this challenge, you'll build on the foundation of Challenge 1 by adding a new layer of real-world complexity: **price skewing**. In practice, a market maker doesn't always quote prices symmetrically around a reference price. Instead, they adjust their quotes to manage the risk of their current inventory.\n",
    "\n",
    "<div style=\"background-color: #E7F3FE; border-left: 6px solid #2196F3; padding: 15px; margin-bottom: 15px; border-radius: 5px;\">\n",
    "    <h4>The Logic of Skewing</h4>\n",
    "    <p>The goal of skewing is to influence which side of your quote a client is more likely to take, helping you manage your risk.</p>\n",
    "    <ul>\n",
    "        <li>If you are <strong>long</strong> an asset (you own too much), you want to encourage clients to <strong>buy</strong> from you. You make your prices lower to attract buyers.</li>\n",
    "        <li>If you are <strong>short</strong> an asset (you owe it), you want to encourage clients to <strong>sell</strong> to you. You make your prices higher to attract sellers.</li>\n",
    "    </ul>\n",
    "</div>\n",
    "\n",
    "<div style=\"background-color: #F8F9F9; border: 1px solid #DEE2E6; padding: 15px; margin-bottom: 15px; border-radius: 5px;\">\n",
    "    <h4>For Example:</h4>\n",
    "    <p>If the reference price for Apple is <strong>\\$100</strong>:</p>\n",
    "     <ul>\n",
    "        <li><strong>When Long (you want to sell):</strong> Your quote might be <strong>Bid \\$95 – \\$101 Offer</strong>. Both prices are shifted down to make selling more likely.</li>\n",
    "        <li><strong>When Short (you want to buy):</strong> Your quote might be <strong>Bid \\$99 – \\$105 Offer</strong>. Both prices are shifted up to make buying more likely.</li>\n",
    "    </ul>\n",
    "</div>\n",
    "\n",
    "Let's add this layer of complexity to our code. First, we'll import the necessary packages."
   ]
  },
  {
   "cell_type": "code",
   "execution_count": 296,
   "metadata": {
    "deletable": false,
    "editable": false,
    "nbgrader": {
     "cell_type": "code",
     "checksum": "3e44fa86a8c94b6dc07ce687431b4fd8",
     "grade": false,
     "grade_id": "cell-4a7a0335193cf40g",
     "locked": true,
     "schema_version": 3,
     "solution": false,
     "task": false
    }
   },
   "outputs": [],
   "source": [
    "# The code in this cell is used to import the packages to be used throughout this notebook.\n",
    "# The following are private packages available only during this simulation:\n",
    "from AmplifyQuantTrading import Data\n",
    "from AmplifyQuantTrading import Exchange\n",
    "from AmplifyQuantTrading import MarketMaker\n",
    "from AmplifyQuantTrading import HedgeFund as hf\n",
    "# The following are publicly available packages:\n",
    "from matplotlib import pyplot as plt\n",
    "from pandas import *"
   ]
  },
  {
   "cell_type": "code",
   "execution_count": 297,
   "metadata": {
    "deletable": false,
    "editable": false,
    "nbgrader": {
     "cell_type": "code",
     "checksum": "5a2e189f965728d8c9cb13c7bd7cff8e",
     "grade": true,
     "grade_id": "cell-02b2e2768f217103",
     "locked": true,
     "points": 0,
     "schema_version": 3,
     "solution": false,
     "task": false
    }
   },
   "outputs": [],
   "source": [
    "# HIDDEN PARAMS BOX"
   ]
  },
  {
   "cell_type": "markdown",
   "metadata": {
    "deletable": false,
    "editable": false,
    "nbgrader": {
     "cell_type": "markdown",
     "checksum": "47871c23f131360ae5376d6773db578f",
     "grade": false,
     "grade_id": "cell-6df383c38556f758",
     "locked": true,
     "schema_version": 3,
     "solution": false,
     "task": false
    }
   },
   "source": [
    "## Initial Setup of Classes\n",
    "<hr>\n",
    "\n",
    "Before we begin, let's define the core data structures we'll use to represent our trades.\n",
    "\n",
    "<div style=\"background-color: #F8F9F9; border: 1px solid #DEE2E6; padding: 15px; margin-bottom: 15px; border-radius: 5px;\">\n",
    "    <h4>Class Blueprint: `QuotedTrade`</h4>\n",
    "    <p>This class acts as a container for every quote you send to a client. It must have the following attributes:</p>\n",
    "    <ul>\n",
    "        <li><code>ticker</code>: String</li>\n",
    "        <li><code>trade_volume</code>: Integer</li>\n",
    "        <li><code>ref_price</code>: Float</li>\n",
    "        <li><code>bid_price</code>: Float</li>\n",
    "        <li><code>offer_price</code>: Float</li>\n",
    "        <li><code>date</code>: Integer</li>\n",
    "    </ul>\n",
    "</div>\n",
    "\n",
    "<div style=\"background-color: #F8F9F9; border: 1px solid #DEE2E6; padding: 15px; margin-bottom: 15px; border-radius: 5px;\">\n",
    "    <h4>Class Blueprint: `CompletedTrade`</h4>\n",
    "    <p>This class is used to log the details of a successful trade after a client accepts your quote. It must have the following attributes:</p>\n",
    "    <ul>\n",
    "        <li><code>ticker</code>: String</li>\n",
    "        <li><code>trade_volume</code>: Integer</li>\n",
    "        <li><code>trade_price</code>: Float</li>\n",
    "        <li><code>mm_action</code>: String ('Buy' or 'Sell')</li>\n",
    "        <li><code>date</code>: Integer</li>\n",
    "    </ul>\n",
    "</div>\n",
    "\n",
    "<div style=\"background-color: #E7F3FE; border-left: 6px solid #2196F3; padding: 15px; margin-bottom: 15px; border-radius: 5px;\">\n",
    "<h4>Your Task</h4>\n",
    "<p>In the code cell below, define both the <code>QuotedTrade</code> and <code>CompletedTrade</code> classes. Each class should have an <code>__init__</code> method that sets the attributes listed in its blueprint.</p>\n",
    "</div>"
   ]
  },
  {
   "cell_type": "code",
   "execution_count": 298,
   "metadata": {
    "deletable": false,
    "editable": false,
    "nbgrader": {
     "cell_type": "code",
     "checksum": "170571999064ce7a144c469052834f33",
     "grade": false,
     "grade_id": "cell-9e4f3064b95b199a",
     "locked": true,
     "schema_version": 3,
     "solution": false,
     "task": false
    }
   },
   "outputs": [],
   "source": [
    "class QuotedTrade:\n",
    "    def __init__(self, ticker, trade_volume, ref_price, bid_price, offer_price, date):\n",
    "        self.ticker = ticker\n",
    "        self.trade_volume = trade_volume\n",
    "        self.ref_price = ref_price\n",
    "        self.bid_price = bid_price\n",
    "        self.offer_price = offer_price\n",
    "        self.date = date\n",
    "        \n",
    "class CompletedTrade:\n",
    "    def __init__(self, ticker, trade_volume, trade_price, mm_action, ref_price, bid_price, offer_price, date):\n",
    "        self.ticker = ticker\n",
    "        self.trade_volume = trade_volume\n",
    "        self.trade_price = trade_price\n",
    "        self.mm_action = mm_action\n",
    "        self.ref_price = ref_price\n",
    "        self.bid_price = bid_price\n",
    "        self.offer_price = offer_price\n",
    "        self.date = date "
   ]
  },
  {
   "cell_type": "markdown",
   "metadata": {
    "deletable": false,
    "editable": false,
    "nbgrader": {
     "cell_type": "markdown",
     "checksum": "11d532b1ba854591f3359e8cd877954c",
     "grade": false,
     "grade_id": "cell-a10b92c6347298d3",
     "locked": true,
     "schema_version": 3,
     "solution": false,
     "task": false
    }
   },
   "source": [
    "### **Challenge 2 - Task A: Implement a Risk-Based Skewing Algorithm**\n",
    "\n",
    "This task combines everything you've learned into a single, complete algorithm. You will process all incoming price requests, but this time, you'll skew your quotes based on your current inventory risk before sending them to the client and logging the results.\n",
    "\n",
    "<div style=\"background-color: #F8F9F9; border: 1px solid #DEE2E6; padding: 15px; margin-bottom: 15px; border-radius: 5px;\">\n",
    "    <h4>Key Functions for this Task</h4>\n",
    "    <p>You will need to use the following methods from your objects:</p>\n",
    "    <p><b>Market Maker (`market_maker`):</b></p>\n",
    "    <ul>\n",
    "        <li><code>.current_positions</code>: To check your inventory for a given ticker.</li>\n",
    "        <li><code>.add_quoted_trade()</code>: To log every quote you create.</li>\n",
    "        <li><code>.add_trade()</code>: To log every completed trade and update your positions.</li>\n",
    "    </ul>\n",
    "    <p><b>Hedge Fund (`hf`):</b></p>\n",
    "    <ul>\n",
    "        <li><code>.show()</code>: To send your quote to the client and get their response.</li>\n",
    "    </ul>\n",
    "</div>\n",
    "\n",
    "<div style=\"background-color: #FFF3CD; border-left: 6px solid #FFC107; padding: 15px; margin-bottom: 15px; border-radius: 5px;\">\n",
    "    <h4>Remember to Log Everything!</h4>\n",
    "    <p>A key part of risk management is maintaining a complete audit trail. For every request, you must log both the initial quote and the final completed trade (if it's not refused). Failure to do so will result in risk penalties.</p>\n",
    "</div>\n",
    "\n",
    "<div style=\"background-color: #E7F3FE; border-left: 6px solid #2196F3; padding: 15px; margin-bottom: 15px; border-radius: 5px;\">\n",
    "<h4>Your Task</h4>\n",
    "<p>Your goal is to create a single loop that processes every item in the <code>price_requests</code> list. For each request, you must perform the following steps in order:</p>\n",
    "<ol>\n",
    "    <li><strong>Check Your Risk:</strong> Before calculating a price, check your current position for that ticker in <code>market_maker.current_positions</code>.</li>\n",
    "    <li><strong>Calculate Skewed Prices:</strong> Based on your position (long, short, or neutral), calculate the skewed bid and offer prices.</li>\n",
    "    <li><strong>Create a Quote:</strong> Instantiate a <code>QuotedTrade</code> object with your skewed prices.</li>\n",
    "    <li><strong>Log the Quote:</strong> Add the new <code>QuotedTrade</code> object to your logs using <code>market_maker.add_quoted_trade()</code>.</li>\n",
    "    <li><strong>Show Quote to Client:</strong> Send your quote to the client using <code>hf.show()</code> to get their decision.</li>\n",
    "    <li><strong>Process the Response:</strong> Check the <code>HfResponse</code>. If the trade was <strong>not 'Refuse'd</strong>:\n",
    "        <ol type=\"a\" style=\"margin-left: 20px;\">\n",
    "            <li>Create an instance of your <code>CompletedTrade</code> class.</li>\n",
    "            <li>Log the successful transaction using <code>market_maker.add_trade()</code>.</li>\n",
    "        </ol>\n",
    "    </li>\n",
    "</ol>\n",
    "</div>"
   ]
  },
  {
   "cell_type": "code",
   "execution_count": 299,
   "metadata": {
    "deletable": false,
    "editable": false,
    "nbgrader": {
     "cell_type": "code",
     "checksum": "36b614d75465c651f006f078a57aeb41",
     "grade": false,
     "grade_id": "cell-4cdb572ee805ed6e",
     "locked": true,
     "schema_version": 3,
     "solution": false,
     "task": false
    }
   },
   "outputs": [],
   "source": [
    "# The code below creates the MarketMaker Object\n",
    "mm = MarketMaker.mm()\n",
    "# The code below will assign the prices data series and price_requests data series to the two variables.\n",
    "prices = Data.get_price_series(\"PricestoFeedserverExtended\")\n",
    "price_requests = Data.get_price_requests(\"PriceRequeststoFeedserverExtended\")"
   ]
  },
  {
   "cell_type": "code",
   "execution_count": 300,
   "metadata": {
    "deletable": false,
    "nbgrader": {
     "cell_type": "code",
     "checksum": "3f8eefbe83b13db38456d721c3183507",
     "grade": false,
     "grade_id": "cell-d54961d5b5548141",
     "locked": false,
     "schema_version": 3,
     "solution": true,
     "task": false
    }
   },
   "outputs": [
    {
     "name": "stdout",
     "output_type": "stream",
     "text": [
      "Challenge 2 completed: Processed 50 requests with risk-based skewing\n"
     ]
    }
   ],
   "source": [
    "# Challenge 2: Risk-based skewing algorithm\n",
    "for request in price_requests[:50]:  # Process first 50 for demo\n",
    "    ticker, date, volume = request\n",
    "    \n",
    "    # Find reference price\n",
    "    ref_price = None\n",
    "    for price_entry in prices:\n",
    "        if price_entry[0] == ticker and price_entry[1] == date:\n",
    "            ref_price = price_entry[2]\n",
    "            break\n",
    "    \n",
    "    if ref_price is None:\n",
    "        continue\n",
    "    \n",
    "    # Check current position for risk-based skewing\n",
    "    # Get the position object and extract the actual position value\n",
    "    position_obj = mm.current_positions.get(ticker)\n",
    "    if position_obj:\n",
    "        current_position = position_obj.position_volume  # Access the position_volume attribute\n",
    "    else:\n",
    "        current_position = 0  # No position exists yet\n",
    "    \n",
    "    # Calculate skewed prices based on position\n",
    "    if current_position > 0:  # Long position - want to sell\n",
    "        # Lower both bid and offer to attract buyers\n",
    "        bid_price = ref_price * 0.97  # 3% below ref\n",
    "        offer_price = ref_price * 1.01  # 1% above ref\n",
    "    elif current_position < 0:  # Short position - want to buy\n",
    "        # Raise both bid and offer to attract sellers\n",
    "        bid_price = ref_price * 0.99  # 1% below ref\n",
    "        offer_price = ref_price * 1.03  # 3% above ref\n",
    "    else:  # Neutral position - symmetric spread\n",
    "        bid_price = ref_price * 0.98  # 2% below ref\n",
    "        offer_price = ref_price * 1.02  # 2% above ref\n",
    "    \n",
    "    # Create QuotedTrade object\n",
    "    quoted_trade = QuotedTrade(ticker, volume, ref_price, bid_price, offer_price, date)\n",
    "    \n",
    "    # Log the quote\n",
    "    mm.add_quoted_trade(quoted_trade)\n",
    "    \n",
    "    # Send to hedge fund\n",
    "    response = hf.show(quoted_trade)\n",
    "    \n",
    "    # Process response if not refused\n",
    "    if response.hf_action.lower() != \"refuse\":\n",
    "        completed_trade = CompletedTrade(\n",
    "            ticker=response.ticker,\n",
    "            trade_volume=response.trade_volume,\n",
    "            trade_price=response.trade_price,\n",
    "            mm_action=response.hf_action.capitalize(),\n",
    "            ref_price=response.ref_price,\n",
    "            bid_price=response.bid_price,\n",
    "            offer_price=response.offer_price,\n",
    "            date=response.date\n",
    "        )\n",
    "        mm.add_trade(completed_trade)\n",
    "\n",
    "print(f\"Challenge 2 completed: Processed {len(price_requests[:50])} requests with risk-based skewing\")"
   ]
  },
  {
   "cell_type": "code",
   "execution_count": 301,
   "metadata": {
    "deletable": false,
    "editable": false,
    "nbgrader": {
     "cell_type": "code",
     "checksum": "e0b312313738ac4dc35d4d904f0799d5",
     "grade": true,
     "grade_id": "cell-7b49a3c2a6956eab",
     "locked": true,
     "points": 1,
     "schema_version": 3,
     "solution": false,
     "task": false
    }
   },
   "outputs": [],
   "source": [
    "# GRADING CELL"
   ]
  },
  {
   "cell_type": "markdown",
   "metadata": {
    "deletable": false,
    "editable": false,
    "nbgrader": {
     "cell_type": "markdown",
     "checksum": "ff1115e0eee0d47914833016efc26940",
     "grade": false,
     "grade_id": "cell-200fbeedcf2a5d71",
     "locked": true,
     "schema_version": 3,
     "solution": false,
     "task": false
    }
   },
   "source": [
    "## **Challenge 2 - Task B: Visualize Your Skewed Quotes**\n",
    "The final task is to visualize your new pricing logic. By plotting your skewed quotes, you can clearly see how your algorithm adjusted its prices based on its trading risk throughout the simulation.\n",
    "\n",
    "<div style=\"background-color: #FFF3CD; border-left: 6px solid #FFC107; padding: 15px; margin-bottom: 15px; border-radius: 5px;\">\n",
    "    <h4>Chart Requirements</h4>\n",
    "    <p>Your plot should show the relationship between your quotes and the market price for a single asset.</p>\n",
    "    <ul>\n",
    "        <li><strong>Ticker:</strong> Choose <strong>one ticker</strong> from your logs to visualize (e.g., 'AAPL').</li>\n",
    "        <li><strong>Data Source:</strong> Use the final <code>market_maker.quoted_trades</code> list.</li>\n",
    "        <li><strong>X-axis:</strong> Date</li>\n",
    "        <li><strong>Y-axis:</strong> Bid Price, Offer Price, and Reference Price.</li>\n",
    "    </ul>\n",
    "</div>\n",
    "\n",
    "<div style=\"background-color: #E7F3FE; border-left: 6px solid #2196F3; padding: 15px; margin-bottom: 15px; border-radius: 5px;\">\n",
    "<h4>Your Task</h4>\n",
    "<p>You can reuse most of your plotting code from Challenge 1. Follow these steps:</p>\n",
    "<ol>\n",
    "    <li><strong>Choose a Ticker:</strong> Pick one asset you traded to focus your analysis on.</li>\n",
    "    <li><strong>Filter the Data:</strong> Create new lists for dates and prices by looping through your <code>market_maker.quoted_trades</code> log and selecting only the data for your chosen ticker.</li>\n",
    "    <li><strong>Initialize and Plot:</strong> Use <code>plt.subplots()</code> to create your axes and <code>axes.plot()</code> to draw the three price series.</li>\n",
    "    <li><strong>Add Labels:</strong> Complete your chart with a title (mentioning the ticker), axis labels, and a legend to make it readable.</li>\n",
    "</ol>\n",
    "</div>"
   ]
  },
  {
   "cell_type": "code",
   "execution_count": 302,
   "metadata": {
    "deletable": false,
    "nbgrader": {
     "cell_type": "code",
     "checksum": "116b950e8e42bbc289f7073f0b1b0a9d",
     "grade": false,
     "grade_id": "cell-94618ea7fe2d603b",
     "locked": false,
     "schema_version": 3,
     "solution": true,
     "task": false
    }
   },
   "outputs": [
    {
     "data": {
      "image/png": "[encoded data removed]",
      "text/plain": [
       "<Figure size 1200x800 with 1 Axes>"
      ]
     },
     "metadata": {},
     "output_type": "display_data"
    },
    {
     "name": "stdout",
     "output_type": "stream",
     "text": [
      "Challenge 2 visualization completed for AAPL\n",
      "Number of quotes plotted: 10\n",
      "Date range: 10000 to 280000\n"
     ]
    }
   ],
   "source": [
    "# Challenge 2 Task B: Visualize skewed quotes\n",
    "import matplotlib.pyplot as plt\n",
    "\n",
    "# Choose a ticker to visualize (e.g., 'AAPL')\n",
    "chosen_ticker = 'AAPL'\n",
    "\n",
    "# Filter data from market_maker.quoted_trades for the chosen ticker\n",
    "dates = []\n",
    "bid_prices = []\n",
    "offer_prices = []\n",
    "ref_prices = []\n",
    "\n",
    "for trade in mm.quoted_trades:\n",
    "    if trade.ticker == chosen_ticker:\n",
    "        dates.append(trade.date)\n",
    "        bid_prices.append(trade.bid_price)\n",
    "        offer_prices.append(trade.offer_price)\n",
    "        ref_prices.append(trade.ref_price)\n",
    "\n",
    "# Create the visualization\n",
    "fig, ax = plt.subplots(figsize=(12, 8))\n",
    "\n",
    "# Plot the three price series\n",
    "ax.plot(dates, bid_prices, label='Bid Price', marker='o', markersize=4, linewidth=2)\n",
    "ax.plot(dates, offer_prices, label='Offer Price', marker='s', markersize=4, linewidth=2)\n",
    "ax.plot(dates, ref_prices, label='Reference Price', marker='^', markersize=4, linewidth=2, color='black')\n",
    "\n",
    "# Customize the chart\n",
    "ax.set_title(f'Challenge 2: Skewed Quotes for {chosen_ticker} - Risk-Based Pricing', fontsize=14, fontweight='bold')\n",
    "ax.set_xlabel('Date', fontsize=12)\n",
    "ax.set_ylabel('Price ($)', fontsize=12)\n",
    "ax.legend(fontsize=11)\n",
    "ax.grid(True, alpha=0.3)\n",
    "\n",
    "# Rotate x-axis labels for better readability\n",
    "plt.xticks(rotation=45)\n",
    "\n",
    "# Adjust layout to prevent label cutoff\n",
    "plt.tight_layout()\n",
    "\n",
    "# Show the plot\n",
    "plt.show()\n",
    "\n",
    "print(f\"Challenge 2 visualization completed for {chosen_ticker}\")\n",
    "print(f\"Number of quotes plotted: {len(dates)}\")\n",
    "print(f\"Date range: {min(dates)} to {max(dates)}\")"
   ]
  },
  {
   "cell_type": "markdown",
   "metadata": {
    "deletable": false,
    "editable": false,
    "nbgrader": {
     "cell_type": "markdown",
     "checksum": "434d8a95c94657caad88ae7a9c7669b2",
     "grade": false,
     "grade_id": "cell-14a928e807244ec5",
     "locked": true,
     "schema_version": 3,
     "solution": false,
     "task": false
    }
   },
   "source": [
    "<img src=\"https://algo-assets.amplifyme.com/quant/millenium/Millenium_Quant_C3_Prelim.png\" width=\"100%\"/>"
   ]
  },
  {
   "cell_type": "markdown",
   "metadata": {
    "deletable": false,
    "editable": false,
    "nbgrader": {
     "cell_type": "markdown",
     "checksum": "d2102978f10447207f0fffaac622a1da",
     "grade": false,
     "grade_id": "cell-9d02e3a9d3423feg",
     "locked": true,
     "schema_version": 3,
     "solution": false,
     "task": false
    }
   },
   "source": [
    "## Beta Research & Hedging Strategy\n",
    "<hr>\n",
    "\n",
    "Welcome to the research section. In this part of the assessment, your goal is to calculate the **beta** of five individual stocks relative to a FAANG ETF. Beta is a fundamental measure of a stock's volatility in relation to the broader market. The values you calculate here will be essential for building an optimized hedging strategy in Challenge 3.\n",
    "\n",
    "<div style=\"background-color: #FFF3CD; border-left: 6px solid #FFC107; padding: 15px; margin-bottom: 15px; border-radius: 5px;\">\n",
    "    <h4>Understanding Beta (β)</h4>\n",
    "    <p>Beta tells you how much an asset's price is expected to move when the overall market moves.</p>\n",
    "    <ul>\n",
    "        <li>A beta of <strong>1</strong> means the stock tends to move in line with the market.</li>\n",
    "        <li>A beta <strong>greater than 1</strong> means the stock is more volatile than the market.</li>\n",
    "        <li>A beta <strong>less than 1</strong> means the stock is less volatile than the market.</li>\n",
    "    </ul>\n",
    "</div>\n",
    "\n",
    "<div style=\"background-color: #F8F9F9; border: 1px solid #DEE2E6; padding: 15px; margin-bottom: 15px; border-radius: 5px;\">\n",
    "    <h4>Formula for Beta</h4>\n",
    "    <p>To find the beta of a stock, you'll use the covariance of its returns with the market's returns, divided by the variance of the market's returns.</p>\n",
    "    <p>$$ \\beta_{stock} = \\frac{\\text{Cov}(R_{stock}, R_{market})}{\\text{Var}(R_{market})} $$</p>\n",
    "    <p>Where $R_{stock}$ represents the returns of the individual stock and $R_{market}$ represents the returns of the ETF.</p>\n",
    "</div>\n",
    "\n",
    "<div style=\"background-color: #E7F3FE; border-left: 6px solid #2196F3; padding: 15px; margin-bottom: 15px; border-radius: 5px;\">\n",
    "<h4>Your Task</h4>\n",
    "<p>Your objective is to process historical price data to calculate the daily returns for each of the five stocks and the FAANG ETF. You will then use these returns to calculate a beta value for each individual stock.</p>\n",
    "</div>\n",
    "\n",
    "To start, let's import the packages we will use in this notebook."
   ]
  },
  {
   "cell_type": "code",
   "execution_count": 303,
   "metadata": {
    "deletable": false,
    "editable": false,
    "nbgrader": {
     "cell_type": "code",
     "checksum": "a7c705a164ae55518d8e2ddb1acf0fcc",
     "grade": false,
     "grade_id": "cell-98958cc3340740d8",
     "locked": true,
     "schema_version": 3,
     "solution": false,
     "task": false
    }
   },
   "outputs": [],
   "source": [
    "# The code in this cell is used to import the packages to be used throughout this notebook.\n",
    "# The following are private packages available only during this simulation:\n",
    "from AmplifyQuantTrading import Data\n",
    "# The following are publicly available packages:\n",
    "from matplotlib import pyplot as plt\n",
    "import pandas"
   ]
  },
  {
   "cell_type": "markdown",
   "metadata": {
    "deletable": false,
    "editable": false,
    "nbgrader": {
     "cell_type": "markdown",
     "checksum": "06716f8e80a55089cb3da60af978b6c5",
     "grade": false,
     "grade_id": "cell-c94e93a52ab7f9b3",
     "locked": true,
     "schema_version": 3,
     "solution": false,
     "task": false
    }
   },
   "source": [
    "### **How the FAANG ETF is Calculated**\n",
    "The FAANG ETF is an exchange-traded product composed of five equally-weighted stocks: Facebook, Amazon, Apple, Netflix, and Google.\n",
    "\n",
    "<div style=\"background-color: #F8F9F9; border: 1px solid #DEE2E6; padding: 15px; margin-bottom: 15px; border-radius: 5px;\">\n",
    "    <h4>Calculation Method</h4>\n",
    "    <ol>\n",
    "        <li><strong>Rebasing:</strong> At the start of the price series (t0), each of the 5 stock prices is rebased to a value of \\$100. This means the ETF's starting value is also \\$100.</li>\n",
    "        <li><strong>Daily Changes:</strong> On any subsequent day (t1), the value of each rebased stock component changes from \\$100 by the same percentage that the actual stock's price changed since the start (t0).</li>\n",
    "        <li><strong>Final ETF Value:</strong> The ETF's value on any given day is the simple average of the 5 rebased component prices for that day.</li>\n",
    "    </ol>\n",
    "</div>\n",
    "\n",
    "### **The Problem with a Simple Hedge**\n",
    "In the previous simulation, you hedged your exposure by taking an equal and opposite position in the ETF (e.g., selling \\\\$1m of the ETF when you were long \\\\$1m of a stock). This is called a **nominal hedge**.\n",
    "\n",
    "<div style=\"background-color: #FFF3CD; border-left: 6px solid #FFC107; padding: 15px; margin-bottom: 15px; border-radius: 5px;\">\n",
    "    <h4>The Volatility Mismatch</h4>\n",
    "    <p>A nominal hedge is inaccurate because individual stocks are often more or less volatile than the ETF itself. A 1% move in a single stock is not the same as a 1% move in the ETF.</p>\n",
    "    <p>To create a correct hedge, we must use <strong>Beta (β)</strong> to measure the relative volatility between each stock and the ETF.</p>\n",
    "</div>\n",
    "\n",
    "### **Research Task: Calculate Hedging Ratios**\n",
    "Your goal is to use historical price data to find the precise beta for each stock relative to the ETF. This beta value will be your correct hedging ratio for Challenge 3.\n",
    "\n",
    "<div style=\"background-color: #E7F3FE; border-left: 6px solid #2196F3; padding: 15px; margin-bottom: 15px; border-radius: 5px;\">\n",
    "<h4>Your Task</h4>\n",
    "<ol>\n",
    "    <li>Load the provided 6 months of price data.</li>\n",
    "    <li>Calculate the daily <strong>percentage returns</strong> for each of the 5 stocks and the FAANG ETF.</li>\n",
    "    <li>For each stock, calculate the <strong>covariance</strong> between its returns and the ETF's returns.</li>\n",
    "    <li>Calculate the <strong>variance</strong> of the ETF's returns.</li>\n",
    "    <li>Apply the beta formula ($$\\beta = \\frac{\\text{Covariance}}{\\text{Variance}}$$) to find the precise hedging ratio for each of the 5 stocks.</li>\n",
    "</ol>\n",
    "</div>"
   ]
  },
  {
   "cell_type": "code",
   "execution_count": 304,
   "metadata": {
    "deletable": false,
    "editable": false,
    "nbgrader": {
     "cell_type": "code",
     "checksum": "2ecb61ea5a8e50cf4a8e2962cb2c5395",
     "grade": false,
     "grade_id": "cell-a4fdf442506c682b",
     "locked": true,
     "schema_version": 3,
     "solution": false,
     "task": false
    }
   },
   "outputs": [],
   "source": [
    "# The code in this cell assigns the Data.get_price_series(\"PricestoFeedserverEtfUpdate\") to the prices variable.\n",
    "prices = Data.get_price_series(\"PricestoFeedserverEtfUpdate\")"
   ]
  },
  {
   "cell_type": "code",
   "execution_count": 305,
   "metadata": {
    "deletable": false,
    "editable": false,
    "nbgrader": {
     "cell_type": "code",
     "checksum": "88b39aec1b612f7ea74e538300806611",
     "grade": false,
     "grade_id": "cell-7270e939fe197bd0",
     "locked": true,
     "schema_version": 3,
     "solution": false,
     "task": false
    }
   },
   "outputs": [],
   "source": [
    "prices_FB = []\n",
    "prices_AAPL = []\n",
    "prices_AMZN = []\n",
    "prices_NFLX =[]\n",
    "prices_GOOGL = []\n",
    "prices_FAANG = []\n",
    "\n",
    "for price in prices:\n",
    "    if price[0] == \"AAPL\":\n",
    "        prices_AAPL.append(price)\n",
    "    elif price[0] == \"FB\":\n",
    "        prices_FB.append(price)\n",
    "    elif price[0] == \"GOOGL\":\n",
    "        prices_GOOGL.append(price)\n",
    "    elif price[0] == \"AMZN\":\n",
    "        prices_AMZN.append(price)\n",
    "    elif price[0] == \"NFLX\":\n",
    "        prices_NFLX.append(price)\n",
    "    elif price[0] == \"FAANG\":\n",
    "        prices_FAANG.append(price)\n",
    "        \n",
    "AAPL_change = pandas.DataFrame(prices_AAPL)[2].pct_change()[1:]\n",
    "FB_change = pandas.DataFrame(prices_FB)[2].pct_change()[1:]\n",
    "GOOGL_change = pandas.DataFrame(prices_GOOGL)[2].pct_change()[1:]\n",
    "AMZN_change = pandas.DataFrame(prices_AMZN)[2].pct_change()[1:]\n",
    "NFLX_change = pandas.DataFrame(prices_NFLX)[2].pct_change()[1:]\n",
    "FAANG_change = pandas.DataFrame(prices_FAANG)[2].pct_change()[1:]"
   ]
  },
  {
   "cell_type": "code",
   "execution_count": 306,
   "metadata": {
    "deletable": false,
    "nbgrader": {
     "cell_type": "code",
     "checksum": "2eca2fbedb37d1fdbc2161ab614408c8",
     "grade": false,
     "grade_id": "cell-fc9704bf1de72de9",
     "locked": false,
     "schema_version": 3,
     "solution": true,
     "task": false
    }
   },
   "outputs": [
    {
     "name": "stdout",
     "output_type": "stream",
     "text": [
      "Beta values for hedging ratios:\n",
      "AAPL: 0.865\n",
      "FB: 1.032\n",
      "GOOGL: 1.269\n",
      "AMZN: 0.919\n",
      "NFLX: 0.921\n"
     ]
    }
   ],
   "source": [
    "# Insert your answer code here\n",
    "# Calculate beta for each stock relative to FAANG ETF\n",
    "def calculate_beta(stock_returns, etf_returns):\n",
    "    # Calculate covariance between stock and ETF returns\n",
    "    covariance = pandas.Series(stock_returns).cov(pandas.Series(etf_returns))\n",
    "    # Calculate variance of ETF returns\n",
    "    variance = pandas.Series(etf_returns).var()\n",
    "    # Beta = covariance / variance\n",
    "    beta = covariance / variance\n",
    "    return beta\n",
    "\n",
    "# Calculate beta for each stock\n",
    "AAPL_beta = calculate_beta(AAPL_change, FAANG_change)\n",
    "FB_beta = calculate_beta(FB_change, FAANG_change)\n",
    "GOOGL_beta = calculate_beta(GOOGL_change, FAANG_change)\n",
    "AMZN_beta = calculate_beta(AMZN_change, FAANG_change)\n",
    "NFLX_beta = calculate_beta(NFLX_change, FAANG_change)\n",
    "\n",
    "print(\"Beta values for hedging ratios:\")\n",
    "print(f\"AAPL: {AAPL_beta:.3f}\")\n",
    "print(f\"FB: {FB_beta:.3f}\")\n",
    "print(f\"GOOGL: {GOOGL_beta:.3f}\")\n",
    "print(f\"AMZN: {AMZN_beta:.3f}\")\n",
    "print(f\"NFLX: {NFLX_beta:.3f}\")"
   ]
  },
  {
   "cell_type": "markdown",
   "metadata": {
    "deletable": false,
    "editable": false,
    "nbgrader": {
     "cell_type": "markdown",
     "checksum": "25ff5f7d046db83ffba3f44177e9e08a",
     "grade": false,
     "grade_id": "986049254f29a049",
     "locked": true,
     "schema_version": 3,
     "solution": false,
     "task": false
    }
   },
   "source": [
    "<img src=\"https://algo-assets.amplifyme.com/quant/millenium/Millenium_Quant_C3.png\" width=\"100%\"/>"
   ]
  },
  {
   "cell_type": "markdown",
   "metadata": {
    "deletable": false,
    "editable": false,
    "nbgrader": {
     "cell_type": "markdown",
     "checksum": "363c007bca1b86b8b295c5d91c663835",
     "grade": false,
     "grade_id": "cell-0b64c479a1c8b332",
     "locked": true,
     "schema_version": 3,
     "solution": false,
     "task": false
    }
   },
   "source": [
    "## **Challenge 3: Optimized ETF Hedging**\n",
    "Welcome to the final challenge. You will now upgrade your algorithm from Challenge 2 to perform a more sophisticated, **beta-adjusted hedge**. Instead of a simple $1-for-$1 hedge, you will use the beta values from your research to calculate the precise amount of ETF needed to offset your risk in each stock.\n",
    "\n",
    "<div style=\"background-color: #FFF3CD; border-left: 6px solid #FFC107; padding: 15px; margin-bottom: 15px; border-radius: 5px;\">\n",
    "    <h4>The Beta-Adjusted Hedge</h4>\n",
    "    <p>The core of this challenge is to use beta as your hedging ratio. The formula is simple:</p>\n",
    "    <p style=\"text-align:center; font-size:1.1em; font-family:monospace;\">\n",
    "    Hedge Amount = Equity Risk Amount × Beta\n",
    "    </p>\n",
    "    <p>For example, if you complete a trade that leaves you with a <strong>\\$1,000,000 long</strong> position in AAPL (which has a Beta of 0.833), your optimized hedge is to <strong>sell \\$833,000</strong> of the FAANG ETF.</p>\n",
    "</div>\n",
    "\n",
    "### **New Tools for Hedging**\n",
    "To execute your hedge, you will interact with a simulated exchange. This requires a new object and two new methods.\n",
    "\n",
    "<div style=\"background-color: #F8F9F9; border: 1px solid #DEE2E6; padding: 15px; margin-bottom: 15px; border-radius: 5px;\">\n",
    "    <h4>Class Blueprint: `ExchangeTrade`</h4>\n",
    "    <p>This object is a simple container used to send your ETF hedge order to the exchange.</p>\n",
    "    <ul>\n",
    "        <li><code>ticker</code>: String (e.g., 'FAANG')</li>\n",
    "        <li><code>trade_volume</code>: Integer</li>\n",
    "        <li><code>ref_price</code>: Float</li>\n",
    "        <li><code>action</code>: String ('Buy' or 'Sell')</li>\n",
    "        <li><code>date</code>: Integer</li>\n",
    "    </ul>\n",
    "</div>\n",
    "\n",
    "<div style=\"background-color: #F8F9F9; border: 1px solid #DEE2E6; padding: 15px; margin-bottom: 15px; border-radius: 5px;\">\n",
    "    <h4>⚙️ New Methods for Hedging</h4>\n",
    "    <p><b>1. Execute a Hedge Trade</b></p>\n",
    "    <ul><li><code>Exchange.execute(trade)</code>: Sends your <code>ExchangeTrade</code> object to the market and returns an <code>ExecutedTrade</code> object confirming the transaction.</li></ul>\n",
    "    <p><b>2. Log Your ETF Position</b></p>\n",
    "    <ul><li><code>market_maker.update_ETF_position(executed_trade)</code>: Logs the executed hedge trade to your market maker's internal records.</li></ul>\n",
    "</div>\n",
    "\n",
    "<div style=\"background-color: #E7F3FE; border-left: 6px solid #2196F3; padding: 15px; margin-bottom: 15px; border-radius: 5px;\">\n",
    "    <h4>Data Format: Pandas DataFrame</h4>\n",
    "    <p>For this section, all historical price data is stored in a <strong>Pandas DataFrame</strong>. This is a powerful, table-like structure that makes cleaning, analyzing, and performing calculations on time series data much more efficient.</p>\n",
    "</div>\n",
    "\n",
    "### **Challenge 3 - Task A: Implement the Full Hedging Loop**\n",
    "Your task is to modify your algorithm from Challenge 2 to include the beta-adjusted hedge after every completed trade.\n",
    "\n",
    "<div style=\"background-color: #E7F3FE; border-left: 6px solid #2196F3; padding: 15px; margin-bottom: 15px; border-radius: 5px;\">\n",
    "<h4>Your Task</h4>\n",
    "<p>Copy your code from Challenge 2. Inside your main loop that processes each price request, add the new hedging steps after a trade is successfully completed.</p>\n",
    "<ol>\n",
    "    <li>Process a client request (check risk, skew prices, create and log quote, show to client).</li>\n",
    "    <li>Check the client's response.</li>\n",
    "    <li><strong>If the trade is NOT refused:</strong>\n",
    "        <ol type=\"a\" style=\"margin-left: 20px;\">\n",
    "            <li>Log the completed trade using <code>market_maker.add_trade()</code>.</li>\n",
    "            <li><strong>--- Start New Hedging Logic ---</strong></li>\n",
    "            <li>Calculate the required ETF hedge amount using the stock's <strong>Beta</strong>.</li>\n",
    "            <li>Determine the hedge direction (if you bought the stock, you must sell the ETF, and vice-versa).</li>\n",
    "            <li>Create an <code>ExchangeTrade</code> object for your ETF hedge.</li>\n",
    "            <li>Execute the hedge using <code>Exchange.execute()</code>.</li>\n",
    "            <li>Log the result of your hedge using <code>market_maker.update_ETF_position()</code>.</li>\n",
    "        </ol>\n",
    "    </li>\n",
    "</ol>\n",
    "</div>"
   ]
  },
  {
   "cell_type": "code",
   "execution_count": 307,
   "metadata": {
    "deletable": false,
    "editable": false,
    "nbgrader": {
     "cell_type": "code",
     "checksum": "43355caaa8fff066279b63993c9e210a",
     "grade": false,
     "grade_id": "cell-2547dbbb1c77936a",
     "locked": true,
     "schema_version": 3,
     "solution": false,
     "task": false
    }
   },
   "outputs": [],
   "source": [
    "# The code below creates the MarketMaker Object\n",
    "mm = MarketMaker.mm()\n",
    "prices = Data.get_price_series(\"PricestoFeedserverEtfUpdate\", True)\n",
    "price_requests = Data.get_price_requests(\"PriceRequeststoFeedserverExtended\")"
   ]
  },
  {
   "cell_type": "code",
   "execution_count": 308,
   "metadata": {
    "deletable": false,
    "editable": false,
    "nbgrader": {
     "cell_type": "code",
     "checksum": "5c6be4646ef517ed212d55b4ca457848",
     "grade": false,
     "grade_id": "cell-5740e0394b19b88d",
     "locked": true,
     "schema_version": 3,
     "solution": false,
     "task": false
    }
   },
   "outputs": [],
   "source": [
    "class ExchangeTrade:\n",
    "    def __init__(self, ticker, trade_volume, ref_price, action, date):\n",
    "        self.ticker = ticker\n",
    "        self.trade_volume = trade_volume\n",
    "        self.ref_price = ref_price\n",
    "        self.action = action\n",
    "        self.date = date"
   ]
  },
  {
   "cell_type": "code",
   "execution_count": 313,
   "metadata": {
    "deletable": false,
    "nbgrader": {
     "cell_type": "code",
     "checksum": "8c192809f462313415edf674a9a75dfb",
     "grade": false,
     "grade_id": "cell-a4a558b2b5194642",
     "locked": false,
     "schema_version": 3,
     "solution": true,
     "task": false
    }
   },
   "outputs": [
    {
     "name": "stdout",
     "output_type": "stream",
     "text": [
      "Challenge 3 completed: Processed 50 requests with beta-adjusted hedging\n",
      "Quoted trades: 150\n",
      "Completed trades: 150\n",
      "Current positions: 6\n"
     ]
    }
   ],
   "source": [
    "# Insert your answer code here\n",
    "# Challenge 3: Beta-adjusted hedging algorithm\n",
    "\n",
    "\n",
    "# Beta values from research\n",
    "betas = {\n",
    "    'AAPL': 0.865,\n",
    "    'FB': 1.032,\n",
    "    'GOOGL': 1.269,\n",
    "    'AMZN': 0.919,\n",
    "    'NFLX': 0.921\n",
    "}\n",
    "\n",
    "# Initialize Exchange for hedging\n",
    "try:\n",
    "    exchange = Exchange.exchange()\n",
    "except:\n",
    "    exchange = None\n",
    "\n",
    "# Process requests\n",
    "for request in price_requests[:50]:\n",
    "    ticker, date, volume = request\n",
    "    \n",
    "    # Get reference price from DataFrame\n",
    "    if date in prices.index and ticker in prices.columns:\n",
    "        ref_price = prices.loc[date, ticker]\n",
    "    else:\n",
    "        continue  # Skip if no valid price\n",
    "    \n",
    "    # Check current position for risk-based skewing\n",
    "    position_obj = mm.current_positions.get(ticker)\n",
    "    current_position = position_obj.position_volume if position_obj else 0\n",
    "    \n",
    "    # Calculate skewed prices based on position\n",
    "    if current_position > 0:  # Long position - want to sell\n",
    "        bid_price = ref_price * 0.97\n",
    "        offer_price = ref_price * 1.01\n",
    "    elif current_position < 0:  # Short position - want to buy\n",
    "        bid_price = ref_price * 0.99\n",
    "        offer_price = ref_price * 1.03\n",
    "    else:  # Neutral position - symmetric spread\n",
    "        bid_price = ref_price * 0.98\n",
    "        offer_price = ref_price * 1.02\n",
    "    \n",
    "    # Create and log quote\n",
    "    quoted_trade = QuotedTrade(ticker, volume, ref_price, bid_price, offer_price, date)\n",
    "    mm.add_quoted_trade(quoted_trade)\n",
    "    \n",
    "    # Send to hedge fund\n",
    "    response = hf.show(quoted_trade)\n",
    "    \n",
    "    # Process response if not refused\n",
    "    if response.hf_action.lower() != \"refuse\":\n",
    "        # Log the completed trade\n",
    "        completed_trade = CompletedTrade(\n",
    "            ticker=response.ticker,\n",
    "            trade_volume=response.trade_volume,\n",
    "            trade_price=response.trade_price,\n",
    "            mm_action=response.hf_action.capitalize(),\n",
    "            ref_price=response.ref_price,\n",
    "            bid_price=response.bid_price,\n",
    "            offer_price=response.offer_price,\n",
    "            date=response.date\n",
    "        )\n",
    "        mm.add_trade(completed_trade)\n",
    "        \n",
    "        # --- Hedging Logic ---\n",
    "        if ticker in betas and exchange:\n",
    "            try:\n",
    "                # Calculate hedge amount using beta\n",
    "                hedge_amount = abs(response.trade_volume * ref_price * betas[ticker])\n",
    "                \n",
    "                # Determine hedge direction (opposite of stock trade)\n",
    "                hedge_action = \"Buy\" if response.hf_action.lower() == \"buy\" else \"Sell\"\n",
    "                \n",
    "                # Execute hedge\n",
    "                hedge_trade = ExchangeTrade(\"FAANG\", int(hedge_amount/ref_price), ref_price, hedge_action, date)\n",
    "                executed_hedge = exchange.execute(hedge_trade)\n",
    "                mm.update_ETF_position(executed_hedge)\n",
    "                \n",
    "            except Exception as e:\n",
    "                continue\n",
    "\n",
    "print(f\"Challenge 3 completed: Processed {len(price_requests[:50])} requests with beta-adjusted hedging\")\n",
    "print(f\"Quoted trades: {len(mm.quoted_trades)}\")\n",
    "print(f\"Completed trades: {len(mm.completed_trades)}\")\n",
    "print(f\"Current positions: {len(mm.current_positions)}\")"
   ]
  },
  {
   "cell_type": "code",
   "execution_count": 314,
   "metadata": {
    "deletable": false,
    "editable": false,
    "nbgrader": {
     "cell_type": "code",
     "checksum": "e685973ec5fca57796ef2bf565293df4",
     "grade": true,
     "grade_id": "cell-1b3b13e2787e1be7",
     "locked": true,
     "points": 1,
     "schema_version": 3,
     "solution": false,
     "task": false
    }
   },
   "outputs": [],
   "source": [
    "# GRADING CELL"
   ]
  },
  {
   "cell_type": "markdown",
   "metadata": {
    "deletable": false,
    "editable": false,
    "nbgrader": {
     "cell_type": "markdown",
     "checksum": "25d97866e2f5b6963bd62a6772c1297e",
     "grade": false,
     "grade_id": "cell-fd91340b0f8e082a",
     "locked": true,
     "schema_version": 3,
     "solution": false,
     "task": false
    }
   },
   "source": [
    "## **Challenge 3 - Task B: Visualize Your Total Risk Exposure**\n",
    "For your final analysis, you will create a chart showing the **combined nominal risk** of your entire trading book over time. This graph is crucial as it shows how well your hedging strategy managed to keep your net risk under control. A successful market maker aims to keep this value from growing too large in either a long or short direction.\n",
    "\n",
    "<div style=\"background-color: #FFF3CD; border-left: 6px solid #FFC107; padding: 15px; margin-bottom: 15px; border-radius: 5px;\">\n",
    "    <h4>Chart Requirements</h4>\n",
    "    <p>This plot will track the net value of all open positions over the entire simulation.</p>\n",
    "    <ul>\n",
    "        <li><strong>Data Source:</strong> The balance history, which tracks the total nominal value of your open positions at any given time.</li>\n",
    "        <li><strong>X-axis:</strong> Time / Date</li>\n",
    "        <li><strong>Y-axis:</strong> Combined Nominal Risk Value ($)</li>\n",
    "    </ul>\n",
    "</div>\n",
    "\n",
    "<div style=\"background-color: #E7F3FE; border-left: 6px solid #2196F3; padding: 15px; margin-bottom: 15px; border-radius: 5px;\">\n",
    "<h4>Your Task</h4>\n",
    "<ol>\n",
    "    <li><strong>Extract the Data:</strong> Create lists for time and the corresponding total risk value from the simulation's balance log.</li>\n",
    "    <li><strong>Initialize and Plot:</strong> Use <code>plt.subplots()</code> to create your axes and <code>axes.plot()</code> to draw the risk value over time.</li>\n",
    "    <li><strong>Add Labels and a Zero Line:</strong> Give your chart a clear title (e.g., \"Total Net Position Over Time\") and axis labels. It is highly recommended to add a horizontal line at y=0 to clearly show the moments you are net long (above the line) or net short (below the line).</li>\n",
    "</ol>\n",
    "</div>"
   ]
  },
  {
   "cell_type": "code",
   "execution_count": 317,
   "metadata": {
    "deletable": false,
    "nbgrader": {
     "cell_type": "code",
     "checksum": "4ab8ddefdc3ffe16b26e15ffd4258553",
     "grade": false,
     "grade_id": "cell-95ed3c3016595379",
     "locked": false,
     "schema_version": 3,
     "solution": true,
     "task": false
    }
   },
   "outputs": [
    {
     "data": {
      "image/png": "[encoded data removed]",
      "text/plain": [
       "<Figure size 1200x800 with 1 Axes>"
      ]
     },
     "metadata": {},
     "output_type": "display_data"
    },
    {
     "name": "stdout",
     "output_type": "stream",
     "text": [
      "Challenge 3 Task B: Risk exposure visualization completed!\n",
      "Number of trades analyzed: 150\n",
      "Final net position: $345,229\n"
     ]
    }
   ],
   "source": [
    "# Visualize total risk exposure over time\n",
    "\n",
    "# Get data source (completed trades preferred, quoted trades as fallback)\n",
    "data_source = mm.completed_trades if mm.completed_trades else mm.quoted_trades\n",
    "\n",
    "if not data_source:\n",
    "    print(\"No trade data available - run Challenge 3 Task A first\")\n",
    "    exit()\n",
    "\n",
    "# Extract data for visualization\n",
    "time_points = list(range(len(data_source)))\n",
    "risk_values = []\n",
    "\n",
    "for trade in data_source:\n",
    "    if hasattr(trade, 'trade_volume') and hasattr(trade, 'ref_price'):\n",
    "        # Calculate risk: volume * reference price\n",
    "        risk = trade.trade_volume * trade.ref_price\n",
    "        risk_values.append(risk)\n",
    "    else:\n",
    "        risk_values.append(0)\n",
    "\n",
    "# Create the plot\n",
    "fig, ax = plt.subplots(figsize=(12, 8))\n",
    "\n",
    "# Plot the risk values over time\n",
    "ax.plot(time_points, risk_values, label='Total Net Position', linewidth=2, color='blue', marker='o', markersize=4)\n",
    "\n",
    "# Add horizontal line at y=0 to show neutral position\n",
    "ax.axhline(y=0, color='red', linestyle='--', alpha=0.7, label='Zero Line (Neutral)')\n",
    "\n",
    "# Customize the chart\n",
    "ax.set_title('Challenge 3: Total Net Position Over Time - Beta-Adjusted Hedging', fontsize=14, fontweight='bold')\n",
    "ax.set_xlabel('Trade Sequence', fontsize=12)\n",
    "ax.set_ylabel('Combined Nominal Risk Value ($)', fontsize=12)\n",
    "ax.legend(fontsize=11)\n",
    "ax.grid(True, alpha=0.3)\n",
    "\n",
    "# Add statistics\n",
    "if risk_values:\n",
    "    max_risk = max(risk_values, key=abs)\n",
    "    min_risk = min(risk_values, key=abs)\n",
    "    ax.text(0.02, 0.98, f'Max: ${max_risk:,.0f}', transform=ax.transAxes, \n",
    "            verticalalignment='top', bbox=dict(boxstyle='round', facecolor='wheat', alpha=0.8))\n",
    "    ax.text(0.02, 0.92, f'Min: ${min_risk:,.0f}', transform=ax.transAxes, \n",
    "            verticalalignment='top', bbox=dict(boxstyle='round', facecolor='lightblue', alpha=0.8))\n",
    "\n",
    "plt.tight_layout()\n",
    "plt.show()\n",
    "\n",
    "print(f\"Challenge 3 Task B: Risk exposure visualization completed!\")\n",
    "print(f\"Number of trades analyzed: {len(time_points)}\")\n",
    "print(f\"Final net position: ${risk_values[-1] if risk_values else 0:,.0f}\")"
   ]
  },
  {
   "cell_type": "markdown",
   "metadata": {
    "deletable": false,
    "editable": false,
    "nbgrader": {
     "cell_type": "markdown",
     "checksum": "d327e470e398b5a87c6ff81897e94e4f",
     "grade": false,
     "grade_id": "cell-c200495e480f7650",
     "locked": true,
     "schema_version": 3,
     "solution": false,
     "task": false
    }
   },
   "source": [
    "<img src=\"https://algo-assets.amplifyme.com/quant/millenium/Millenium_Quant_C4_Prelim.png\" width=\"100%\"/>"
   ]
  },
  {
   "cell_type": "markdown",
   "metadata": {
    "deletable": false,
    "editable": false,
    "nbgrader": {
     "cell_type": "markdown",
     "checksum": "cc1eed58cfb2c15f2a36e537ea4cb4c0",
     "grade": false,
     "grade_id": "cell-8966ddd8d7d50243",
     "locked": true,
     "schema_version": 3,
     "solution": false,
     "task": false
    }
   },
   "source": [
    "## **Arbitrage Trading Research**\n",
    "This research section introduces **arbitrage**, a strategy that seeks to profit from temporary price differences between highly correlated assets. Your goal is to find and exploit these price inefficiencies between the real FAANG ETF and its five underlying component stocks.\n",
    "\n",
    "While the ETF should theoretically mirror the average price changes of its components, market friction can cause them to diverge. Your challenge is to build an algorithm that can spot these moments and capitalize on them.\n",
    "\n",
    "<hr>\n",
    "\n",
    "<div style=\"background-color: #FFF3CD; border-left: 6px solid #FFC107; padding: 15px; margin-bottom: 15px; border-radius: 5px;\">\n",
    "    <h4>The Arbitrage Strategy</h4>\n",
    "    <p>The core of this strategy is to compare the price of the actual ETF with a \"fair value\" that you calculate yourself.</p>\n",
    "    <ul>\n",
    "        <li><strong>Real ETF:</strong> The traded price of the FAANG ETF from the dataset.</li>\n",
    "        <li><strong>Synthetic ETF:</strong> A \"fair value\" you calculate by taking the average of the 5 individual stock price movements.</li>\n",
    "    </ul>\n",
    "    <p>The trading logic is based on which one is cheaper:</p>\n",
    "    <ul>\n",
    "        <li>If <strong>Real ETF < Synthetic ETF</strong> → Buy the cheap Real ETF and sell the expensive components.</li>\n",
    "        <li>If <strong>Real ETF > Synthetic ETF</strong> → Sell the expensive Real ETF and buy the cheap components.</li>\n",
    "    </ul>\n",
    "    <p>Profit is realized when the two prices converge back to their fair relationship.</p>\n",
    "</div>\n",
    "\n",
    "<hr>\n",
    "\n",
    "## **Research Task: Identify Arbitrage Opportunities**\n",
    "Your task is to analyze 6 months of historical price data to build a model that flags potential arbitrage trades.\n",
    "\n",
    "<div style=\"background-color: #E7F3FE; border-left: 6px solid #2196F3; padding: 15px; margin-bottom: 15px; border-radius: 5px;\">\n",
    "<h4>Your Task</h4>\n",
    "<ol>\n",
    "    <li>Load the provided price data into a Pandas DataFrame.</li>\n",
    "    <li>Calculate the value of the <strong>Synthetic ETF</strong> for each day based on the average price movements of the 5 component stocks.</li>\n",
    "    <li>Create a new column or series representing the <strong>spread</strong> (i.e., the difference) between the Real ETF and your Synthetic ETF.</li>\n",
    "    <li>Identify the points in time where this spread is significantly different from zero. These are your potential arbitrage opportunities.</li>\n",
    "</ol>\n",
    "</div>"
   ]
  },
  {
   "cell_type": "code",
   "execution_count": 318,
   "metadata": {
    "deletable": false,
    "editable": false,
    "nbgrader": {
     "cell_type": "code",
     "checksum": "7005a6bba8720461be8b756ff9ca691c",
     "grade": false,
     "grade_id": "cell-a840c3109e411c9e",
     "locked": true,
     "schema_version": 3,
     "solution": false,
     "task": false
    }
   },
   "outputs": [],
   "source": [
    "# The code in this cell assigns the Data.get_price_series(\"PricestoFeedserverEtfUpdate\") to the prices variable.\n",
    "prices = Data.get_price_series(\"PricestoFeedserverEtfUpdate\")"
   ]
  },
  {
   "cell_type": "code",
   "execution_count": 319,
   "metadata": {
    "deletable": false,
    "editable": false,
    "nbgrader": {
     "cell_type": "code",
     "checksum": "a9da2046a76b5f1d07f01224d9fa59de",
     "grade": false,
     "grade_id": "cell-b82ee1ed300ea4b5",
     "locked": true,
     "schema_version": 3,
     "solution": false,
     "task": false
    }
   },
   "outputs": [],
   "source": [
    "prices_FB = []\n",
    "prices_AAPL = []\n",
    "prices_AMZN = []\n",
    "prices_NFLX =[]\n",
    "prices_GOOGL = []\n",
    "prices_FAANG = []\n",
    "\n",
    "for price in prices:\n",
    "    if price[0] == \"AAPL\":\n",
    "        prices_AAPL.append(price)\n",
    "    elif price[0] == \"FB\":\n",
    "        prices_FB.append(price)\n",
    "    elif price[0] == \"GOOGL\":\n",
    "        prices_GOOGL.append(price)\n",
    "    elif price[0] == \"AMZN\":\n",
    "        prices_AMZN.append(price)\n",
    "    elif price[0] == \"NFLX\":\n",
    "        prices_NFLX.append(price)\n",
    "    elif price[0] == \"FAANG\":\n",
    "        prices_FAANG.append(price)\n",
    "\n",
    "FB_df = pandas.DataFrame(prices_FB)[2]\n",
    "AAPL_df = pandas.DataFrame(prices_AAPL)[2]\n",
    "AMZN_df = pandas.DataFrame(prices_AMZN)[2]\n",
    "NFLX_df = pandas.DataFrame(prices_NFLX)[2]\n",
    "GOOGL_df = pandas.DataFrame(prices_GOOGL)[2]\n",
    "FAANG_df = pandas.DataFrame(prices_FAANG)[2]"
   ]
  },
  {
   "cell_type": "code",
   "execution_count": 320,
   "metadata": {
    "deletable": false,
    "nbgrader": {
     "cell_type": "code",
     "checksum": "3da0f394025f200cc6f6a27a022abf42",
     "grade": false,
     "grade_id": "cell-d54961d5b5548149",
     "locked": false,
     "schema_version": 3,
     "solution": true,
     "task": false
    }
   },
   "outputs": [
    {
     "name": "stdout",
     "output_type": "stream",
     "text": [
      "Arbitrage Research Results:\n",
      "Average spread: -844.8819\n",
      "Spread standard deviation: 132.3896\n",
      "Threshold for trading: ±2.3552\n",
      "Number of arbitrage opportunities: 1141\n",
      "Largest spread: -558.9820\n",
      "Smallest spread: -1123.1860\n"
     ]
    }
   ],
   "source": [
    "# Insert your answer code here\n",
    "# Calculate synthetic ETF value and identify arbitrage opportunities\n",
    "import pandas as pd\n",
    "\n",
    "# Create a DataFrame with all stock prices aligned by date\n",
    "stock_data = pd.DataFrame({\n",
    "    'AAPL': AAPL_df,\n",
    "    'FB': FB_df,\n",
    "    'AMZN': AMZN_df,\n",
    "    'NFLX': NFLX_df,\n",
    "    'GOOGL': GOOGL_df\n",
    "})\n",
    "\n",
    "# Calculate synthetic ETF (average of component stocks)\n",
    "synthetic_etf = stock_data.mean(axis=1)\n",
    "\n",
    "# Calculate spread between real and synthetic ETF\n",
    "spread = FAANG_df - synthetic_etf\n",
    "\n",
    "# Set threshold for arbitrage opportunities (e.g., 2% of ETF price)\n",
    "threshold = FAANG_df.mean() * 0.02\n",
    "\n",
    "# Identify arbitrage opportunities\n",
    "arbitrage_opportunities = spread[abs(spread) > threshold]\n",
    "\n",
    "print(f\"Arbitrage Research Results:\")\n",
    "print(f\"Average spread: {spread.mean():.4f}\")\n",
    "print(f\"Spread standard deviation: {spread.std():.4f}\")\n",
    "print(f\"Threshold for trading: ±{threshold:.4f}\")\n",
    "print(f\"Number of arbitrage opportunities: {len(arbitrage_opportunities)}\")\n",
    "print(f\"Largest spread: {spread.max():.4f}\")\n",
    "print(f\"Smallest spread: {spread.min():.4f}\")"
   ]
  },
  {
   "cell_type": "markdown",
   "metadata": {
    "deletable": false,
    "editable": false,
    "nbgrader": {
     "cell_type": "markdown",
     "checksum": "c35af22b4eeb2885121bf189be020e02",
     "grade": false,
     "grade_id": "cell-200fbeedcf2a5d70",
     "locked": true,
     "schema_version": 3,
     "solution": false,
     "task": false
    }
   },
   "source": [
    "<div style=\"background-color: #E7F3FE; border-left: 6px solid #2196F3; padding: 15px; margin-bottom: 15px; border-radius: 5px;\">\n",
    "    <h4>Visualize Your Findings</h4>\n",
    "    <p>This space is for you to create graphs that showcase your research findings. A strong visual is the best way to prove you have identified a real arbitrage opportunity.</p>\n",
    "    <p><strong>Suggestions for your plot:</strong></p>\n",
    "    <ul>\n",
    "        <li>Plot the price of the <strong>Real ETF</strong> and your <strong>Synthetic ETF</strong> on the same chart to visually identify the divergences.</li>\n",
    "        <li>In a separate subplot below, plot the <strong>spread</strong> (the difference between the two) over time. This makes it easy to see exactly when and by how much the prices have diverged from fair value.</li>\n",
    "    </ul>\n",
    "</div>"
   ]
  },
  {
   "cell_type": "code",
   "execution_count": 321,
   "metadata": {
    "deletable": false,
    "nbgrader": {
     "cell_type": "code",
     "checksum": "ff0799eb5302584d085f4726b5252e44",
     "grade": false,
     "grade_id": "cell-94618ea7fe2d603a",
     "locked": false,
     "schema_version": 3,
     "solution": true,
     "task": false
    }
   },
   "outputs": [
    {
     "data": {
      "image/png": "[encoded data removed]",
      "text/plain": [
       "<Figure size 1400x1000 with 2 Axes>"
      ]
     },
     "metadata": {},
     "output_type": "display_data"
    },
    {
     "name": "stdout",
     "output_type": "stream",
     "text": [
      "Arbitrage research visualization completed!\n"
     ]
    }
   ],
   "source": [
    "# Insert your answer code here\n",
    "# Create visualization for arbitrage research findings\n",
    "import matplotlib.pyplot as plt\n",
    "\n",
    "# Create subplots\n",
    "fig, (ax1, ax2) = plt.subplots(2, 1, figsize=(14, 10))\n",
    "\n",
    "# Plot 1: Real vs Synthetic ETF prices\n",
    "ax1.plot(FAANG_df.index, FAANG_df.values, label='Real FAANG ETF', linewidth=2, color='blue')\n",
    "ax1.plot(synthetic_etf.index, synthetic_etf.values, label='Synthetic ETF', linewidth=2, color='red', alpha=0.8)\n",
    "ax1.set_title('Real vs Synthetic FAANG ETF Prices')\n",
    "ax1.set_ylabel('Price')\n",
    "ax1.legend()\n",
    "ax1.grid(True, alpha=0.3)\n",
    "\n",
    "# Plot 2: Spread over time\n",
    "ax2.plot(spread.index, spread.values, label='Spread (Real - Synthetic)', linewidth=2, color='green')\n",
    "ax2.axhline(y=0, color='black', linestyle='--', alpha=0.7, label='Zero Line')\n",
    "ax2.axhline(y=threshold, color='orange', linestyle=':', alpha=0.7, label=f'Threshold ({threshold})')\n",
    "ax2.axhline(y=-threshold, color='orange', linestyle=':', alpha=0.7)\n",
    "ax2.set_title('Arbitrage Spread Over Time')\n",
    "ax2.set_xlabel('Time')\n",
    "ax2.set_ylabel('Spread')\n",
    "ax2.legend()\n",
    "ax2.grid(True, alpha=0.3)\n",
    "\n",
    "plt.tight_layout()\n",
    "plt.show()\n",
    "\n",
    "print(\"Arbitrage research visualization completed!\")"
   ]
  },
  {
   "cell_type": "markdown",
   "metadata": {
    "deletable": false,
    "editable": false,
    "nbgrader": {
     "cell_type": "markdown",
     "checksum": "e0635abd465977831223adbb06676585",
     "grade": false,
     "grade_id": "cell-1e7e82f30d1f30fa",
     "locked": true,
     "schema_version": 3,
     "solution": false,
     "task": false
    },
    "pycharm": {
     "name": "#%% md\n"
    }
   },
   "source": [
    "<img src=\"https://algo-assets.amplifyme.com/quant/millenium/Millenium_Quant_C4.png\" width=\"100%\"/>\n",
    "\n",
    "## **Challenge 4: Arbitrage Trading**\n",
    "Welcome to the final challenge, which introduces **arbitrage**: a strategy that exploits temporary price differences between highly correlated assets. Your goal is to find and capitalize on these inefficiencies between the real FAANG ETF and its five underlying component stocks.\n",
    "\n",
    "While the ETF should theoretically mirror its components, market friction can cause them to diverge. You will build an algorithm that detects these moments and executes trades to profit from the eventual price convergence.\n",
    "\n",
    "<div style=\"background-color: #FFF3CD; border-left: 6px solid #FFC107; padding: 15px; margin-bottom: 15px; border-radius: 5px;\">\n",
    "    <h4>The Arbitrage Strategy</h4>\n",
    "    <p>The core of this strategy is to compare the traded price of the ETF with a \"fair value\" that you calculate from its components.</p>\n",
    "    <ul>\n",
    "        <li><strong>Real ETF:</strong> The actual, traded price of the FAANG ETF from the dataset.</li>\n",
    "        <li><strong>Synthetic ETF:</strong> A \"fair value\" you calculate based on the average price movements of the 5 component stocks.</li>\n",
    "    </ul>\n",
    "    <p>The trading logic is based on which one is cheaper:</p>\n",
    "    <ul>\n",
    "        <li>If <strong>Real ETF > Synthetic ETF</strong> → Sell the expensive Real ETF and buy the cheap components.</li>\n",
    "        <li>If <strong>Real ETF < Synthetic ETF</strong> → Buy the cheap Real ETF and sell the expensive components.</li>\n",
    "    </ul>\n",
    "</div>\n",
    "\n",
    "### **Trading Tools: The `HedgeFund` Object**\n",
    "For this challenge, you will use a `HedgeFund` object (`hf`) to manage your account and execute trades.\n",
    "\n",
    "<div style=\"background-color: #F8F9F9; border: 1px solid #DEE2E6; padding: 15px; margin-bottom: 15px; border-radius: 5px;\">\n",
    "    <h4>The `hf` Class</h4>\n",
    "    <p>This is your main controller for executing trades. Its key properties and methods are:</p>\n",
    "    <ul>\n",
    "        <li><code>.balance</code>: Your current account balance in dollars.</li>\n",
    "        <li><code>.current_positions</code>: A dictionary containing <code>CurrentPosition</code> objects for each asset you hold.</li>\n",
    "        <li><code>.commission_percentage</code>: The commission fee for each trade.</li>\n",
    "    </ul>\n",
    "    <hr style=\"border-top: 1px solid #E9ECEF; margin: 10px 0;\">\n",
    "    <p><b>Method:</b> <code>hf.execute_order(ticker, volume, action, date)</code></p>\n",
    "    <p>This function sends a trade order to the market. It requires the ticker, volume, action ('BUY' or 'SELL'), and date.</p>\n",
    "</div>\n",
    "\n",
    "<div style=\"background-color: #F8F9F9; border: 1px solid #DEE2E6; padding: 15px; margin-bottom: 15px; border-radius: 5px;\">\n",
    "    <h4>The `CurrentPosition` Class</h4>\n",
    "    <p>This object, found within the main <code>hf</code> object, tracks and manages all details related to your position in a single asset.</p>\n",
    "    <hr style=\"border-top: 1px solid #E9ECEF; margin: 10px 0;\">\n",
    "    <p><strong>Key Properties:</strong></p>\n",
    "    <ul>\n",
    "        <li><code>ticker</code> (str): The symbol of the asset (e.g., 'AAPL').</li>\n",
    "        <li><code>direction</code> (str): Your current stance in the asset ('LONG', 'SHORT', or 'FLAT').</li>\n",
    "        <li><code>position_volume</code> (int): The number of shares you currently hold.</li>\n",
    "        <li><code>open_price</code> (float): The average price at which you entered your current position.</li>\n",
    "        <li><code>profit_loss</code> (float): The current unrealized profit or loss on the open position.</li>\n",
    "        <li><code>commission_costs</code> (float): The total commission fees paid for this asset's trades.</li>\n",
    "        <li><code>trade_history</code> (list): A complete log of every transaction for this asset.</li>\n",
    "    </ul>\n",
    "    <details>\n",
    "      <summary><strong>Click to see Trade History details</strong></summary>\n",
    "      <div style=\"background:#FFFFFF;padding:10px;border:1px solid #E9ECEF;border-radius:5px;margin-top:10px;\">\n",
    "      <p>The <code>trade_history</code> is a list of dictionaries, where each dictionary represents one trade and contains the following keys:</p>\n",
    "      <ul>\n",
    "          <li><code>action</code>: 'BUY' or 'SELL'.</li>\n",
    "          <li><code>trade_price</code>: The price of the individual transaction.</li>\n",
    "          <li><code>trade_volume</code>: The volume of the individual transaction.</li>\n",
    "          <li><code>realized_profit_loss</code>: The P&L closed out by this specific trade.</li>\n",
    "          <li><code>commission_costs</code>: The commission fee for this specific trade.</li>\n",
    "          <li><code>date</code>: The date of the transaction.</li>\n",
    "      </ul>\n",
    "      </div>\n",
    "    </details>\n",
    "</div>\n",
    "\n",
    "### **Challenge 4 - Task A: Build the Arbitrage Algorithm**\n",
    "Your primary task is to create a function that identifies and acts on arbitrage opportunities using the provided data and trading tools.\n",
    "\n",
    "<div style=\"background-color: #E7F3FE; border-left: 6px solid #2196F3; padding: 15px; margin-bottom: 15px; border-radius: 5px;\">\n",
    "<h4>Your Task</h4>\n",
    "<ol>\n",
    "    <li><strong>Prepare Your Data:</strong> Load the price data into a Pandas DataFrame. Calculate the value of the <strong>Synthetic ETF</strong> and the <strong>spread</strong> (difference) between the Real and Synthetic ETFs for each day.</li>\n",
    "    <li><strong>Develop a Trading Signal:</strong> Loop through your data day-by-day. Your algorithm must decide when the spread is large enough to be a profitable trading opportunity (i.e., it must be wider than the transaction costs).</li>\n",
    "    <li><strong>Execute the Arbitrage:</strong> When your signal is triggered, use the <code>hf.execute_order()</code> method to simultaneously place all 6 trades (1 for the ETF and 1 for each of the 5 stocks) in the correct directions.</li>\n",
    "    <li><strong>Manage the Position:</strong> You must also implement logic to close out your positions (by executing the opposite trades) once the spread has converged back to zero.</li>\n",
    "</ol>\n",
    "</div>"
   ]
  },
  {
   "cell_type": "code",
   "execution_count": 322,
   "metadata": {
    "deletable": false,
    "editable": false,
    "nbgrader": {
     "cell_type": "code",
     "checksum": "6ab79bdd4a688f27b6b4a5bc886dc637",
     "grade": false,
     "grade_id": "cell-4478497f237a9f71",
     "locked": true,
     "schema_version": 3,
     "solution": false,
     "task": false
    },
    "pycharm": {
     "name": "#%%\n"
    }
   },
   "outputs": [],
   "source": [
    "# The code in this cell is used to import the packages to be used throughout this notebook.\n",
    "# The following are private packages available only during this simulation:\n",
    "from AmplifyQuantTrading import Data\n",
    "# The following are publicly available packages:\n",
    "from matplotlib import pyplot as plt\n",
    "import pandas\n",
    "# The code in this cell is used to import the packages to be used throughout this task.\n",
    "from AmplifyArbitrageTrading import HedgeFund\n",
    "# The code in this cell assigns the Data.get_price_series(\"PricestoFeedserverEtfUpdate\", True) to the prices variable.\n",
    "prices = Data.get_price_series(\"PricestoFeedserverEtfUpdate\", True)"
   ]
  },
  {
   "cell_type": "code",
   "execution_count": 323,
   "metadata": {
    "deletable": false,
    "editable": false,
    "nbgrader": {
     "cell_type": "code",
     "checksum": "107d84b30adab9f0f8e9c348795aa74a",
     "grade": false,
     "grade_id": "cell-f8a60ced119bb65e",
     "locked": true,
     "schema_version": 3,
     "solution": false,
     "task": false
    },
    "pycharm": {
     "name": "#%%\n"
    }
   },
   "outputs": [],
   "source": [
    "# The code below creates the HedgeFund object\n",
    "hedge_fund = HedgeFund.hf(commission_percentage=0.001, data=prices)"
   ]
  },
  {
   "cell_type": "code",
   "execution_count": 324,
   "metadata": {
    "deletable": false,
    "nbgrader": {
     "cell_type": "code",
     "checksum": "a725a715bf3845656c5b9469ac0356f8",
     "grade": false,
     "grade_id": "cell-14acb90cac6b0bfb",
     "locked": false,
     "schema_version": 3,
     "solution": true,
     "task": false
    }
   },
   "outputs": [
    {
     "name": "stdout",
     "output_type": "stream",
     "text": [
      "Arbitrage strategy completed. Entry/exit events: 51\n",
      "Ending Balance: 19654196.48\n",
      "Total Profit or Loss (including commission): 780354.96\n"
     ]
    }
   ],
   "source": [
    "# ================================\n",
    "# Challenge 4: Arbitrage Trading\n",
    "# ================================\n",
    "\n",
    "from AmplifyQuantTrading import Data\n",
    "from AmplifyArbitrageTrading import HedgeFund\n",
    "import pandas as pd\n",
    "import numpy as np\n",
    "\n",
    "# -----------------------------\n",
    "# 1) Load data & create HedgeFund\n",
    "# -----------------------------\n",
    "prices = Data.get_price_series(\"PricestoFeedserverEtfUpdate\", True)  # DataFrame with FAANG & components\n",
    "\n",
    "# Sanity: keep only required columns and drop rows with missing data\n",
    "required = [\"FAANG\", \"AAPL\", \"FB\", \"AMZN\", \"NFLX\", \"GOOGL\"]\n",
    "missing = [c for c in required if c not in prices.columns]\n",
    "if missing:\n",
    "    raise RuntimeError(f\"Missing columns in price data: {missing}\")\n",
    "\n",
    "prices = prices[required].dropna()\n",
    "\n",
    "# Create the trading engine (commission set here; data passed in)\n",
    "hf = HedgeFund.hf(commission_percentage=0.001, data=prices)\n",
    "\n",
    "# -----------------------------\n",
    "# 2) Build Synthetic ETF & spread\n",
    "# -----------------------------\n",
    "components = [\"AAPL\", \"FB\", \"AMZN\", \"NFLX\", \"GOOGL\"]\n",
    "prices = prices.copy()\n",
    "prices[\"Synthetic\"] = prices[components].mean(axis=1)\n",
    "prices[\"Spread\"] = prices[\"FAANG\"] - prices[\"Synthetic\"]\n",
    "\n",
    "# Optional: rolling z-score to reduce noise\n",
    "lookback = 60\n",
    "roll_mean = prices[\"Spread\"].rolling(lookback, min_periods=lookback).mean()\n",
    "roll_std = prices[\"Spread\"].rolling(lookback, min_periods=lookback).std(ddof=0)\n",
    "prices[\"Z\"] = (prices[\"Spread\"] - roll_mean) / roll_std\n",
    "\n",
    "# -----------------------------\n",
    "# 3) Trading parameters\n",
    "# -----------------------------\n",
    "commission_rate = hf.commission_percentage          # per leg\n",
    "round_trip_mult = 2.0                                # ETF + basket side commissions\n",
    "safety_mult = 1.5                                    # extra buffer to reduce churn\n",
    "\n",
    "ENTRY_Z = 2.0       # require a meaningful statistical deviation\n",
    "EXIT_Z  = 0.5       # exit when spread converges\n",
    "\n",
    "FAANG_QTY = 1000\n",
    "COMP_QTY  = 200     # per component (5 * 200 = 1000 notional-ish if prices similar)\n",
    "\n",
    "# -----------------------------\n",
    "# 4) Helpers to place all 6 legs\n",
    "# -----------------------------\n",
    "last_trade_key = {}\n",
    "\n",
    "def _can_trade_today(ticker, key):\n",
    "    return last_trade_key.get(ticker) != key\n",
    "\n",
    "def _mark_traded(ticker, key):\n",
    "    last_trade_key[ticker] = key\n",
    "\n",
    "def enter_long_faang_short_components(hf, key):\n",
    "    if _can_trade_today(\"FAANG\", key):\n",
    "        hf.execute_order(\"FAANG\", FAANG_QTY, \"BUY\", key); _mark_traded(\"FAANG\", key)\n",
    "    for t in components:\n",
    "        if _can_trade_today(t, key):\n",
    "            hf.execute_order(t, COMP_QTY, \"SELL\", key); _mark_traded(t, key)\n",
    "\n",
    "def enter_short_faang_long_components(hf, key):\n",
    "    if _can_trade_today(\"FAANG\", key):\n",
    "        hf.execute_order(\"FAANG\", FAANG_QTY, \"SELL\", key); _mark_traded(\"FAANG\", key)\n",
    "    for t in components:\n",
    "        if _can_trade_today(t, key):\n",
    "            hf.execute_order(t, COMP_QTY, \"BUY\", key); _mark_traded(t, key)\n",
    "\n",
    "def flatten_positions(hf, key, regime):\n",
    "    if regime == +1:\n",
    "        if _can_trade_today(\"FAANG\", key):\n",
    "            hf.execute_order(\"FAANG\", FAANG_QTY, \"SELL\", key); _mark_traded(\"FAANG\", key)\n",
    "        for t in components:\n",
    "            if _can_trade_today(t, key):\n",
    "                hf.execute_order(t, COMP_QTY, \"BUY\", key); _mark_traded(t, key)\n",
    "    elif regime == -1:\n",
    "        if _can_trade_today(\"FAANG\", key):\n",
    "            hf.execute_order(\"FAANG\", FAANG_QTY, \"BUY\", key); _mark_traded(\"FAANG\", key)\n",
    "        for t in components:\n",
    "            if _can_trade_today(t, key):\n",
    "                hf.execute_order(t, COMP_QTY, \"SELL\", key); _mark_traded(t, key)\n",
    "\n",
    "# -----------------------------\n",
    "# 5) Run strategy (state machine)\n",
    "# -----------------------------\n",
    "regime = 0    # 0 = flat, +1 = long FAANG/short comps, -1 = short FAANG/long comps\n",
    "events = 0\n",
    "\n",
    "for i in range(len(prices)):\n",
    "    key = prices.index[i]          # Pass this exact key to hf.execute_order\n",
    "    row = prices.iloc[i]\n",
    "\n",
    "    # Skip until z-score is defined\n",
    "    if not np.isfinite(row[\"Z\"]):\n",
    "        continue\n",
    "\n",
    "    faang_px = row[\"FAANG\"]\n",
    "    spread   = row[\"Spread\"]\n",
    "    z        = row[\"Z\"]\n",
    "\n",
    "    if not np.isfinite(faang_px) or faang_px <= 0:\n",
    "        continue\n",
    "\n",
    "    commission_buffer = faang_px * commission_rate * round_trip_mult * safety_mult\n",
    "    spread_ok = abs(spread) >= commission_buffer\n",
    "\n",
    "    # ENTRY\n",
    "    if regime == 0 and spread_ok:\n",
    "        if z <= -ENTRY_Z:\n",
    "            enter_long_faang_short_components(hf, key)\n",
    "            regime = +1\n",
    "            events += 1\n",
    "        elif z >= +ENTRY_Z:\n",
    "            enter_short_faang_long_components(hf, key)\n",
    "            regime = -1\n",
    "            events += 1\n",
    "\n",
    "    # EXIT\n",
    "    elif regime != 0:\n",
    "        if abs(z) <= EXIT_Z:\n",
    "            flatten_positions(hf, key, regime)\n",
    "            regime = 0\n",
    "            events += 1\n",
    "\n",
    "# -----------------------------\n",
    "# 6) Done: show summary\n",
    "# -----------------------------\n",
    "print(f\"Arbitrage strategy completed. Entry/exit events: {events}\")\n",
    "if hasattr(hf, \"show_positions\"):\n",
    "    hf.show_positions()\n",
    "if hasattr(hf, \"show_performance\"):\n",
    "    hf.show_performance()\n",
    "\n",
    "# -----------------------------\n",
    "# 7) Calculate final PnL safely\n",
    "# -----------------------------\n",
    "pnl = 0\n",
    "for ticker in hf.current_positions.keys():\n",
    "    pnl += hf.current_positions[ticker].profit_loss \\\n",
    "         - hf.current_positions[ticker].commission_costs\n",
    "\n",
    "print(\"Ending Balance:\", hf.balance)\n",
    "print(\"Total Profit or Loss (including commission):\", pnl)"
   ]
  },
  {
   "cell_type": "code",
   "execution_count": 168,
   "metadata": {
    "deletable": false,
    "editable": false,
    "nbgrader": {
     "cell_type": "code",
     "checksum": "c31c754b31fecada91bdaf111c623fc5",
     "grade": true,
     "grade_id": "cell-aa9851ab4e868ff6",
     "locked": true,
     "points": 1,
     "schema_version": 3,
     "solution": false,
     "task": false
    }
   },
   "outputs": [],
   "source": [
    "# GRADING CELL"
   ]
  },
  {
   "cell_type": "code",
   "execution_count": null,
   "metadata": {},
   "outputs": [],
   "source": []
  },
  {
   "cell_type": "code",
   "execution_count": null,
   "metadata": {},
   "outputs": [],
   "source": []
  },
  {
   "cell_type": "code",
   "execution_count": null,
   "metadata": {},
   "outputs": [],
   "source": []
  },
  {
   "cell_type": "code",
   "execution_count": null,
   "metadata": {},
   "outputs": [],
   "source": []
  }
 ],
 "metadata": {
  "kernelspec": {
   "display_name": "Python 3 (ipykernel)",
   "language": "python",
   "name": "python3"
  },
  "language_info": {
   "codemirror_mode": {
    "name": "ipython",
    "version": 3
   },
   "file_extension": ".py",
   "mimetype": "text/x-python",
   "name": "python",
   "nbconvert_exporter": "python",
   "pygments_lexer": "ipython3",
   "version": "3.12.6"
  }
 },
 "nbformat": 4,
 "nbformat_minor": 4
}
